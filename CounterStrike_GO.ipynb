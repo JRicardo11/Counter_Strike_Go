{
 "cells": [
  {
   "cell_type": "markdown",
   "metadata": {
    "colab_type": "text",
    "id": "oUSjLy91oAwE"
   },
   "source": [
    "Group C: Fidelis Mnyanyi, Lucas Holstein, Michael Wagdy, Ricardo Santos, Siddhi Dhavale, Tomas Susedik\n",
    "\n",
    "Last revision: 04/10/2020"
   ]
  },
  {
   "cell_type": "markdown",
   "metadata": {
    "colab_type": "text",
    "id": "ex5SYlhJoAwH"
   },
   "source": [
    "---"
   ]
  },
  {
   "cell_type": "markdown",
   "metadata": {
    "colab_type": "text",
    "id": "A9tQIh-7oAwH"
   },
   "source": [
    "## Importing the database: csgo_round_snapshots.csv"
   ]
  },
  {
   "cell_type": "code",
   "execution_count": 2,
   "metadata": {
    "colab": {
     "base_uri": "https://localhost:8080/",
     "height": 34
    },
    "colab_type": "code",
    "executionInfo": {
     "elapsed": 889,
     "status": "ok",
     "timestamp": 1600517369751,
     "user": {
      "displayName": "Michael Wagdy",
      "photoUrl": "https://lh3.googleusercontent.com/a-/AOh14Gg_u7pFkVZSSiFae2t32-35NZ5O2VflRaLq-gix=s64",
      "userId": "08989577666829319739"
     },
     "user_tz": -240
    },
    "id": "dKSu6u4xQu02",
    "outputId": "11ce4577-86ec-4322-a019-94bda4b2a5a0"
   },
   "outputs": [],
   "source": [
    "import pandas as pd\n",
    "import numpy as np\n",
    "df = pd.read_csv('csgo_round_snapshots.csv')"
   ]
  },
  {
   "cell_type": "code",
   "execution_count": 3,
   "metadata": {
    "colab": {
     "base_uri": "https://localhost:8080/",
     "height": 253
    },
    "colab_type": "code",
    "executionInfo": {
     "elapsed": 1088,
     "status": "ok",
     "timestamp": 1600517380555,
     "user": {
      "displayName": "Michael Wagdy",
      "photoUrl": "https://lh3.googleusercontent.com/a-/AOh14Gg_u7pFkVZSSiFae2t32-35NZ5O2VflRaLq-gix=s64",
      "userId": "08989577666829319739"
     },
     "user_tz": -240
    },
    "id": "xMC-nhxioAwM",
    "outputId": "72159e1d-059a-4d65-ed78-6caa9de0eccb"
   },
   "outputs": [
    {
     "data": {
      "text/html": [
       "<div>\n",
       "<style scoped>\n",
       "    .dataframe tbody tr th:only-of-type {\n",
       "        vertical-align: middle;\n",
       "    }\n",
       "\n",
       "    .dataframe tbody tr th {\n",
       "        vertical-align: top;\n",
       "    }\n",
       "\n",
       "    .dataframe thead th {\n",
       "        text-align: right;\n",
       "    }\n",
       "</style>\n",
       "<table border=\"1\" class=\"dataframe\">\n",
       "  <thead>\n",
       "    <tr style=\"text-align: right;\">\n",
       "      <th></th>\n",
       "      <th>time_left</th>\n",
       "      <th>ct_score</th>\n",
       "      <th>t_score</th>\n",
       "      <th>map</th>\n",
       "      <th>bomb_planted</th>\n",
       "      <th>ct_health</th>\n",
       "      <th>t_health</th>\n",
       "      <th>ct_armor</th>\n",
       "      <th>t_armor</th>\n",
       "      <th>ct_money</th>\n",
       "      <th>...</th>\n",
       "      <th>t_grenade_flashbang</th>\n",
       "      <th>ct_grenade_smokegrenade</th>\n",
       "      <th>t_grenade_smokegrenade</th>\n",
       "      <th>ct_grenade_incendiarygrenade</th>\n",
       "      <th>t_grenade_incendiarygrenade</th>\n",
       "      <th>ct_grenade_molotovgrenade</th>\n",
       "      <th>t_grenade_molotovgrenade</th>\n",
       "      <th>ct_grenade_decoygrenade</th>\n",
       "      <th>t_grenade_decoygrenade</th>\n",
       "      <th>round_winner</th>\n",
       "    </tr>\n",
       "  </thead>\n",
       "  <tbody>\n",
       "    <tr>\n",
       "      <th>0</th>\n",
       "      <td>175.00</td>\n",
       "      <td>0.0</td>\n",
       "      <td>0.0</td>\n",
       "      <td>de_dust2</td>\n",
       "      <td>False</td>\n",
       "      <td>500.0</td>\n",
       "      <td>500.0</td>\n",
       "      <td>0.0</td>\n",
       "      <td>0.0</td>\n",
       "      <td>4000.0</td>\n",
       "      <td>...</td>\n",
       "      <td>0.0</td>\n",
       "      <td>0.0</td>\n",
       "      <td>0.0</td>\n",
       "      <td>0.0</td>\n",
       "      <td>0.0</td>\n",
       "      <td>0.0</td>\n",
       "      <td>0.0</td>\n",
       "      <td>0.0</td>\n",
       "      <td>0.0</td>\n",
       "      <td>CT</td>\n",
       "    </tr>\n",
       "    <tr>\n",
       "      <th>1</th>\n",
       "      <td>156.03</td>\n",
       "      <td>0.0</td>\n",
       "      <td>0.0</td>\n",
       "      <td>de_dust2</td>\n",
       "      <td>False</td>\n",
       "      <td>500.0</td>\n",
       "      <td>500.0</td>\n",
       "      <td>400.0</td>\n",
       "      <td>300.0</td>\n",
       "      <td>600.0</td>\n",
       "      <td>...</td>\n",
       "      <td>0.0</td>\n",
       "      <td>0.0</td>\n",
       "      <td>2.0</td>\n",
       "      <td>0.0</td>\n",
       "      <td>0.0</td>\n",
       "      <td>0.0</td>\n",
       "      <td>0.0</td>\n",
       "      <td>0.0</td>\n",
       "      <td>0.0</td>\n",
       "      <td>CT</td>\n",
       "    </tr>\n",
       "    <tr>\n",
       "      <th>2</th>\n",
       "      <td>96.03</td>\n",
       "      <td>0.0</td>\n",
       "      <td>0.0</td>\n",
       "      <td>de_dust2</td>\n",
       "      <td>False</td>\n",
       "      <td>391.0</td>\n",
       "      <td>400.0</td>\n",
       "      <td>294.0</td>\n",
       "      <td>200.0</td>\n",
       "      <td>750.0</td>\n",
       "      <td>...</td>\n",
       "      <td>0.0</td>\n",
       "      <td>0.0</td>\n",
       "      <td>2.0</td>\n",
       "      <td>0.0</td>\n",
       "      <td>0.0</td>\n",
       "      <td>0.0</td>\n",
       "      <td>0.0</td>\n",
       "      <td>0.0</td>\n",
       "      <td>0.0</td>\n",
       "      <td>CT</td>\n",
       "    </tr>\n",
       "    <tr>\n",
       "      <th>3</th>\n",
       "      <td>76.03</td>\n",
       "      <td>0.0</td>\n",
       "      <td>0.0</td>\n",
       "      <td>de_dust2</td>\n",
       "      <td>False</td>\n",
       "      <td>391.0</td>\n",
       "      <td>400.0</td>\n",
       "      <td>294.0</td>\n",
       "      <td>200.0</td>\n",
       "      <td>750.0</td>\n",
       "      <td>...</td>\n",
       "      <td>0.0</td>\n",
       "      <td>0.0</td>\n",
       "      <td>0.0</td>\n",
       "      <td>0.0</td>\n",
       "      <td>0.0</td>\n",
       "      <td>0.0</td>\n",
       "      <td>0.0</td>\n",
       "      <td>0.0</td>\n",
       "      <td>0.0</td>\n",
       "      <td>CT</td>\n",
       "    </tr>\n",
       "    <tr>\n",
       "      <th>4</th>\n",
       "      <td>174.97</td>\n",
       "      <td>1.0</td>\n",
       "      <td>0.0</td>\n",
       "      <td>de_dust2</td>\n",
       "      <td>False</td>\n",
       "      <td>500.0</td>\n",
       "      <td>500.0</td>\n",
       "      <td>192.0</td>\n",
       "      <td>0.0</td>\n",
       "      <td>18350.0</td>\n",
       "      <td>...</td>\n",
       "      <td>0.0</td>\n",
       "      <td>0.0</td>\n",
       "      <td>0.0</td>\n",
       "      <td>0.0</td>\n",
       "      <td>0.0</td>\n",
       "      <td>0.0</td>\n",
       "      <td>0.0</td>\n",
       "      <td>0.0</td>\n",
       "      <td>0.0</td>\n",
       "      <td>CT</td>\n",
       "    </tr>\n",
       "  </tbody>\n",
       "</table>\n",
       "<p>5 rows × 97 columns</p>\n",
       "</div>"
      ],
      "text/plain": [
       "   time_left  ct_score  t_score       map  bomb_planted  ct_health  t_health  \\\n",
       "0     175.00       0.0      0.0  de_dust2         False      500.0     500.0   \n",
       "1     156.03       0.0      0.0  de_dust2         False      500.0     500.0   \n",
       "2      96.03       0.0      0.0  de_dust2         False      391.0     400.0   \n",
       "3      76.03       0.0      0.0  de_dust2         False      391.0     400.0   \n",
       "4     174.97       1.0      0.0  de_dust2         False      500.0     500.0   \n",
       "\n",
       "   ct_armor  t_armor  ct_money  ...  t_grenade_flashbang  \\\n",
       "0       0.0      0.0    4000.0  ...                  0.0   \n",
       "1     400.0    300.0     600.0  ...                  0.0   \n",
       "2     294.0    200.0     750.0  ...                  0.0   \n",
       "3     294.0    200.0     750.0  ...                  0.0   \n",
       "4     192.0      0.0   18350.0  ...                  0.0   \n",
       "\n",
       "   ct_grenade_smokegrenade  t_grenade_smokegrenade  \\\n",
       "0                      0.0                     0.0   \n",
       "1                      0.0                     2.0   \n",
       "2                      0.0                     2.0   \n",
       "3                      0.0                     0.0   \n",
       "4                      0.0                     0.0   \n",
       "\n",
       "   ct_grenade_incendiarygrenade  t_grenade_incendiarygrenade  \\\n",
       "0                           0.0                          0.0   \n",
       "1                           0.0                          0.0   \n",
       "2                           0.0                          0.0   \n",
       "3                           0.0                          0.0   \n",
       "4                           0.0                          0.0   \n",
       "\n",
       "   ct_grenade_molotovgrenade  t_grenade_molotovgrenade  \\\n",
       "0                        0.0                       0.0   \n",
       "1                        0.0                       0.0   \n",
       "2                        0.0                       0.0   \n",
       "3                        0.0                       0.0   \n",
       "4                        0.0                       0.0   \n",
       "\n",
       "   ct_grenade_decoygrenade  t_grenade_decoygrenade  round_winner  \n",
       "0                      0.0                     0.0            CT  \n",
       "1                      0.0                     0.0            CT  \n",
       "2                      0.0                     0.0            CT  \n",
       "3                      0.0                     0.0            CT  \n",
       "4                      0.0                     0.0            CT  \n",
       "\n",
       "[5 rows x 97 columns]"
      ]
     },
     "execution_count": 3,
     "metadata": {},
     "output_type": "execute_result"
    }
   ],
   "source": [
    "df.head()"
   ]
  },
  {
   "cell_type": "markdown",
   "metadata": {
    "colab_type": "text",
    "id": "ex5SYlhJoAwH"
   },
   "source": [
    "---"
   ]
  },
  {
   "cell_type": "markdown",
   "metadata": {
    "colab_type": "text",
    "id": "uxa_UeOWoAwb"
   },
   "source": [
    "<h1><center>  <font color='blue'> Data cleaning, part 1 </font </center></h1>"
   ]
  },
  {
   "cell_type": "code",
   "execution_count": 4,
   "metadata": {},
   "outputs": [],
   "source": [
    "from sklearn.preprocessing import LabelEncoder\n",
    "from sklearn.preprocessing import OneHotEncoder"
   ]
  },
  {
   "cell_type": "markdown",
   "metadata": {
    "colab_type": "text",
    "id": "81IpgT5GeHc2"
   },
   "source": [
    "## Categorical variables"
   ]
  },
  {
   "cell_type": "code",
   "execution_count": 5,
   "metadata": {
    "colab": {
     "base_uri": "https://localhost:8080/",
     "height": 204
    },
    "colab_type": "code",
    "executionInfo": {
     "elapsed": 6866,
     "status": "ok",
     "timestamp": 1600507301188,
     "user": {
      "displayName": "Michael Wagdy",
      "photoUrl": "https://lh3.googleusercontent.com/a-/AOh14Gg_u7pFkVZSSiFae2t32-35NZ5O2VflRaLq-gix=s64",
      "userId": "08989577666829319739"
     },
     "user_tz": -240
    },
    "id": "jtgBgkb1eA4L",
    "outputId": "d5885fb0-16af-4d41-be16-c2816466ad0c"
   },
   "outputs": [
    {
     "data": {
      "text/html": [
       "<div>\n",
       "<style scoped>\n",
       "    .dataframe tbody tr th:only-of-type {\n",
       "        vertical-align: middle;\n",
       "    }\n",
       "\n",
       "    .dataframe tbody tr th {\n",
       "        vertical-align: top;\n",
       "    }\n",
       "\n",
       "    .dataframe thead th {\n",
       "        text-align: right;\n",
       "    }\n",
       "</style>\n",
       "<table border=\"1\" class=\"dataframe\">\n",
       "  <thead>\n",
       "    <tr style=\"text-align: right;\">\n",
       "      <th></th>\n",
       "      <th>map</th>\n",
       "      <th>bomb_planted</th>\n",
       "      <th>round_winner</th>\n",
       "    </tr>\n",
       "  </thead>\n",
       "  <tbody>\n",
       "    <tr>\n",
       "      <th>0</th>\n",
       "      <td>de_dust2</td>\n",
       "      <td>False</td>\n",
       "      <td>CT</td>\n",
       "    </tr>\n",
       "    <tr>\n",
       "      <th>1</th>\n",
       "      <td>de_dust2</td>\n",
       "      <td>False</td>\n",
       "      <td>CT</td>\n",
       "    </tr>\n",
       "    <tr>\n",
       "      <th>2</th>\n",
       "      <td>de_dust2</td>\n",
       "      <td>False</td>\n",
       "      <td>CT</td>\n",
       "    </tr>\n",
       "    <tr>\n",
       "      <th>3</th>\n",
       "      <td>de_dust2</td>\n",
       "      <td>False</td>\n",
       "      <td>CT</td>\n",
       "    </tr>\n",
       "    <tr>\n",
       "      <th>4</th>\n",
       "      <td>de_dust2</td>\n",
       "      <td>False</td>\n",
       "      <td>CT</td>\n",
       "    </tr>\n",
       "  </tbody>\n",
       "</table>\n",
       "</div>"
      ],
      "text/plain": [
       "        map  bomb_planted round_winner\n",
       "0  de_dust2         False           CT\n",
       "1  de_dust2         False           CT\n",
       "2  de_dust2         False           CT\n",
       "3  de_dust2         False           CT\n",
       "4  de_dust2         False           CT"
      ]
     },
     "execution_count": 5,
     "metadata": {},
     "output_type": "execute_result"
    }
   ],
   "source": [
    "obj_df = df.select_dtypes(include=['object','bool']).copy()\n",
    "obj_df.head()"
   ]
  },
  {
   "cell_type": "markdown",
   "metadata": {
    "colab_type": "text",
    "id": "gpM4OAwUpsoT"
   },
   "source": [
    "## Convert <i>round_winner</i> to binary"
   ]
  },
  {
   "cell_type": "code",
   "execution_count": 6,
   "metadata": {
    "colab": {},
    "colab_type": "code",
    "id": "2MOAyusrprX3"
   },
   "outputs": [
    {
     "data": {
      "text/plain": [
       "<bound method NDFrame.head of 0         0\n",
       "1         0\n",
       "2         0\n",
       "3         0\n",
       "4         0\n",
       "         ..\n",
       "122405    1\n",
       "122406    1\n",
       "122407    1\n",
       "122408    1\n",
       "122409    1\n",
       "Name: round_winner, Length: 122410, dtype: int32>"
      ]
     },
     "execution_count": 6,
     "metadata": {},
     "output_type": "execute_result"
    }
   ],
   "source": [
    "label_encoder = LabelEncoder()\n",
    "df['round_winner']= label_encoder.fit_transform(df['round_winner'])\n",
    "df['round_winner'].head"
   ]
  },
  {
   "cell_type": "markdown",
   "metadata": {
    "colab_type": "text",
    "id": "TDmKpfJHyaR3"
   },
   "source": [
    "## Convert <i>bomb_planted</i> to binary"
   ]
  },
  {
   "cell_type": "code",
   "execution_count": 7,
   "metadata": {
    "colab": {},
    "colab_type": "code",
    "id": "2MOAyusrprX3"
   },
   "outputs": [
    {
     "data": {
      "text/plain": [
       "<bound method NDFrame.head of 0         0\n",
       "1         0\n",
       "2         0\n",
       "3         0\n",
       "4         0\n",
       "         ..\n",
       "122405    1\n",
       "122406    0\n",
       "122407    0\n",
       "122408    0\n",
       "122409    0\n",
       "Name: bomb_planted, Length: 122410, dtype: int64>"
      ]
     },
     "execution_count": 7,
     "metadata": {},
     "output_type": "execute_result"
    }
   ],
   "source": [
    "df['bomb_planted']= label_encoder.fit_transform(df['bomb_planted'])\n",
    "df['bomb_planted'].head"
   ]
  },
  {
   "cell_type": "markdown",
   "metadata": {
    "colab_type": "text",
    "id": "h1-OeEI4v2ox"
   },
   "source": [
    "## Convert <i>map</i> to binary"
   ]
  },
  {
   "cell_type": "code",
   "execution_count": 8,
   "metadata": {
    "scrolled": true
   },
   "outputs": [
    {
     "data": {
      "text/html": [
       "<div>\n",
       "<style scoped>\n",
       "    .dataframe tbody tr th:only-of-type {\n",
       "        vertical-align: middle;\n",
       "    }\n",
       "\n",
       "    .dataframe tbody tr th {\n",
       "        vertical-align: top;\n",
       "    }\n",
       "\n",
       "    .dataframe thead th {\n",
       "        text-align: right;\n",
       "    }\n",
       "</style>\n",
       "<table border=\"1\" class=\"dataframe\">\n",
       "  <thead>\n",
       "    <tr style=\"text-align: right;\">\n",
       "      <th></th>\n",
       "      <th>time_left</th>\n",
       "      <th>ct_score</th>\n",
       "      <th>t_score</th>\n",
       "      <th>bomb_planted</th>\n",
       "      <th>ct_health</th>\n",
       "      <th>t_health</th>\n",
       "      <th>ct_armor</th>\n",
       "      <th>t_armor</th>\n",
       "      <th>ct_money</th>\n",
       "      <th>t_money</th>\n",
       "      <th>...</th>\n",
       "      <th>t_grenade_decoygrenade</th>\n",
       "      <th>round_winner</th>\n",
       "      <th>map0</th>\n",
       "      <th>map1</th>\n",
       "      <th>map2</th>\n",
       "      <th>map3</th>\n",
       "      <th>map4</th>\n",
       "      <th>map5</th>\n",
       "      <th>map6</th>\n",
       "      <th>map7</th>\n",
       "    </tr>\n",
       "  </thead>\n",
       "  <tbody>\n",
       "    <tr>\n",
       "      <th>122405</th>\n",
       "      <td>15.41</td>\n",
       "      <td>11.0</td>\n",
       "      <td>14.0</td>\n",
       "      <td>1</td>\n",
       "      <td>200.0</td>\n",
       "      <td>242.0</td>\n",
       "      <td>195.0</td>\n",
       "      <td>359.0</td>\n",
       "      <td>100.0</td>\n",
       "      <td>5950.0</td>\n",
       "      <td>...</td>\n",
       "      <td>0.0</td>\n",
       "      <td>1</td>\n",
       "      <td>0.0</td>\n",
       "      <td>0.0</td>\n",
       "      <td>0.0</td>\n",
       "      <td>0.0</td>\n",
       "      <td>0.0</td>\n",
       "      <td>0.0</td>\n",
       "      <td>1.0</td>\n",
       "      <td>0.0</td>\n",
       "    </tr>\n",
       "    <tr>\n",
       "      <th>122406</th>\n",
       "      <td>174.93</td>\n",
       "      <td>11.0</td>\n",
       "      <td>15.0</td>\n",
       "      <td>0</td>\n",
       "      <td>500.0</td>\n",
       "      <td>500.0</td>\n",
       "      <td>95.0</td>\n",
       "      <td>175.0</td>\n",
       "      <td>11500.0</td>\n",
       "      <td>23900.0</td>\n",
       "      <td>...</td>\n",
       "      <td>0.0</td>\n",
       "      <td>1</td>\n",
       "      <td>0.0</td>\n",
       "      <td>0.0</td>\n",
       "      <td>0.0</td>\n",
       "      <td>0.0</td>\n",
       "      <td>0.0</td>\n",
       "      <td>0.0</td>\n",
       "      <td>1.0</td>\n",
       "      <td>0.0</td>\n",
       "    </tr>\n",
       "    <tr>\n",
       "      <th>122407</th>\n",
       "      <td>114.93</td>\n",
       "      <td>11.0</td>\n",
       "      <td>15.0</td>\n",
       "      <td>0</td>\n",
       "      <td>500.0</td>\n",
       "      <td>500.0</td>\n",
       "      <td>495.0</td>\n",
       "      <td>475.0</td>\n",
       "      <td>1200.0</td>\n",
       "      <td>6700.0</td>\n",
       "      <td>...</td>\n",
       "      <td>0.0</td>\n",
       "      <td>1</td>\n",
       "      <td>0.0</td>\n",
       "      <td>0.0</td>\n",
       "      <td>0.0</td>\n",
       "      <td>0.0</td>\n",
       "      <td>0.0</td>\n",
       "      <td>0.0</td>\n",
       "      <td>1.0</td>\n",
       "      <td>0.0</td>\n",
       "    </tr>\n",
       "    <tr>\n",
       "      <th>122408</th>\n",
       "      <td>94.93</td>\n",
       "      <td>11.0</td>\n",
       "      <td>15.0</td>\n",
       "      <td>0</td>\n",
       "      <td>500.0</td>\n",
       "      <td>500.0</td>\n",
       "      <td>495.0</td>\n",
       "      <td>475.0</td>\n",
       "      <td>1200.0</td>\n",
       "      <td>6700.0</td>\n",
       "      <td>...</td>\n",
       "      <td>0.0</td>\n",
       "      <td>1</td>\n",
       "      <td>0.0</td>\n",
       "      <td>0.0</td>\n",
       "      <td>0.0</td>\n",
       "      <td>0.0</td>\n",
       "      <td>0.0</td>\n",
       "      <td>0.0</td>\n",
       "      <td>1.0</td>\n",
       "      <td>0.0</td>\n",
       "    </tr>\n",
       "    <tr>\n",
       "      <th>122409</th>\n",
       "      <td>74.93</td>\n",
       "      <td>11.0</td>\n",
       "      <td>15.0</td>\n",
       "      <td>0</td>\n",
       "      <td>375.0</td>\n",
       "      <td>479.0</td>\n",
       "      <td>395.0</td>\n",
       "      <td>466.0</td>\n",
       "      <td>1100.0</td>\n",
       "      <td>7000.0</td>\n",
       "      <td>...</td>\n",
       "      <td>0.0</td>\n",
       "      <td>1</td>\n",
       "      <td>0.0</td>\n",
       "      <td>0.0</td>\n",
       "      <td>0.0</td>\n",
       "      <td>0.0</td>\n",
       "      <td>0.0</td>\n",
       "      <td>0.0</td>\n",
       "      <td>1.0</td>\n",
       "      <td>0.0</td>\n",
       "    </tr>\n",
       "  </tbody>\n",
       "</table>\n",
       "<p>5 rows × 104 columns</p>\n",
       "</div>"
      ],
      "text/plain": [
       "        time_left  ct_score  t_score  bomb_planted  ct_health  t_health  \\\n",
       "122405      15.41      11.0     14.0             1      200.0     242.0   \n",
       "122406     174.93      11.0     15.0             0      500.0     500.0   \n",
       "122407     114.93      11.0     15.0             0      500.0     500.0   \n",
       "122408      94.93      11.0     15.0             0      500.0     500.0   \n",
       "122409      74.93      11.0     15.0             0      375.0     479.0   \n",
       "\n",
       "        ct_armor  t_armor  ct_money  t_money  ...  t_grenade_decoygrenade  \\\n",
       "122405     195.0    359.0     100.0   5950.0  ...                     0.0   \n",
       "122406      95.0    175.0   11500.0  23900.0  ...                     0.0   \n",
       "122407     495.0    475.0    1200.0   6700.0  ...                     0.0   \n",
       "122408     495.0    475.0    1200.0   6700.0  ...                     0.0   \n",
       "122409     395.0    466.0    1100.0   7000.0  ...                     0.0   \n",
       "\n",
       "        round_winner  map0  map1  map2  map3  map4  map5  map6  map7  \n",
       "122405             1   0.0   0.0   0.0   0.0   0.0   0.0   1.0   0.0  \n",
       "122406             1   0.0   0.0   0.0   0.0   0.0   0.0   1.0   0.0  \n",
       "122407             1   0.0   0.0   0.0   0.0   0.0   0.0   1.0   0.0  \n",
       "122408             1   0.0   0.0   0.0   0.0   0.0   0.0   1.0   0.0  \n",
       "122409             1   0.0   0.0   0.0   0.0   0.0   0.0   1.0   0.0  \n",
       "\n",
       "[5 rows x 104 columns]"
      ]
     },
     "execution_count": 8,
     "metadata": {},
     "output_type": "execute_result"
    }
   ],
   "source": [
    "enc = OneHotEncoder()\n",
    "enc_df = pd.DataFrame(enc.fit_transform(df[['map']]).toarray())\n",
    "df = df.join(enc_df)\n",
    "df = df.drop(['map'], axis = 1)\n",
    "df.rename(columns={0:'map0', 1:'map1', 2:'map2', 3:'map3', 4:'map4', 5:'map5', 6:'map6', 7:'map7'},\n",
    "          inplace=True)\n",
    "df.tail()"
   ]
  },
  {
   "cell_type": "markdown",
   "metadata": {
    "colab_type": "text",
    "id": "81IpgT5GeHc2"
   },
   "source": [
    "## Check categorical variables"
   ]
  },
  {
   "cell_type": "code",
   "execution_count": 9,
   "metadata": {
    "colab": {
     "base_uri": "https://localhost:8080/",
     "height": 204
    },
    "colab_type": "code",
    "executionInfo": {
     "elapsed": 6866,
     "status": "ok",
     "timestamp": 1600507301188,
     "user": {
      "displayName": "Michael Wagdy",
      "photoUrl": "https://lh3.googleusercontent.com/a-/AOh14Gg_u7pFkVZSSiFae2t32-35NZ5O2VflRaLq-gix=s64",
      "userId": "08989577666829319739"
     },
     "user_tz": -240
    },
    "id": "jtgBgkb1eA4L",
    "outputId": "d5885fb0-16af-4d41-be16-c2816466ad0c"
   },
   "outputs": [
    {
     "data": {
      "text/html": [
       "<div>\n",
       "<style scoped>\n",
       "    .dataframe tbody tr th:only-of-type {\n",
       "        vertical-align: middle;\n",
       "    }\n",
       "\n",
       "    .dataframe tbody tr th {\n",
       "        vertical-align: top;\n",
       "    }\n",
       "\n",
       "    .dataframe thead th {\n",
       "        text-align: right;\n",
       "    }\n",
       "</style>\n",
       "<table border=\"1\" class=\"dataframe\">\n",
       "  <thead>\n",
       "    <tr style=\"text-align: right;\">\n",
       "      <th></th>\n",
       "    </tr>\n",
       "  </thead>\n",
       "  <tbody>\n",
       "    <tr>\n",
       "      <th>0</th>\n",
       "    </tr>\n",
       "    <tr>\n",
       "      <th>1</th>\n",
       "    </tr>\n",
       "    <tr>\n",
       "      <th>2</th>\n",
       "    </tr>\n",
       "    <tr>\n",
       "      <th>3</th>\n",
       "    </tr>\n",
       "    <tr>\n",
       "      <th>4</th>\n",
       "    </tr>\n",
       "  </tbody>\n",
       "</table>\n",
       "</div>"
      ],
      "text/plain": [
       "Empty DataFrame\n",
       "Columns: []\n",
       "Index: [0, 1, 2, 3, 4]"
      ]
     },
     "execution_count": 9,
     "metadata": {},
     "output_type": "execute_result"
    }
   ],
   "source": [
    "obj_df = df.select_dtypes(include=['object','bool']).copy()\n",
    "obj_df.head()"
   ]
  },
  {
   "cell_type": "markdown",
   "metadata": {
    "colab_type": "text",
    "id": "ex5SYlhJoAwH"
   },
   "source": [
    "---"
   ]
  },
  {
   "cell_type": "markdown",
   "metadata": {
    "colab_type": "text",
    "id": "uxa_UeOWoAwb"
   },
   "source": [
    "<h1><center>  <font color='blue'> Exploratory data analysis </font </center></h1>"
   ]
  },
  {
   "cell_type": "code",
   "execution_count": 10,
   "metadata": {
    "colab": {
     "base_uri": "https://localhost:8080/",
     "height": 51
    },
    "colab_type": "code",
    "executionInfo": {
     "elapsed": 4519,
     "status": "ok",
     "timestamp": 1600507298676,
     "user": {
      "displayName": "Michael Wagdy",
      "photoUrl": "https://lh3.googleusercontent.com/a-/AOh14Gg_u7pFkVZSSiFae2t32-35NZ5O2VflRaLq-gix=s64",
      "userId": "08989577666829319739"
     },
     "user_tz": -240
    },
    "id": "oweCYv2OoAwc",
    "outputId": "54d2c1ee-e81b-4128-829f-83a82df11074"
   },
   "outputs": [],
   "source": [
    "import seaborn as sns\n",
    "sns.set(color_codes=True)\n",
    "import matplotlib.pyplot as plt\n",
    "%matplotlib inline "
   ]
  },
  {
   "cell_type": "markdown",
   "metadata": {
    "colab_type": "text",
    "id": "A9tQIh-7oAwH"
   },
   "source": [
    "## Shape"
   ]
  },
  {
   "cell_type": "code",
   "execution_count": 11,
   "metadata": {
    "colab": {
     "base_uri": "https://localhost:8080/",
     "height": 34
    },
    "colab_type": "code",
    "executionInfo": {
     "elapsed": 3584,
     "status": "ok",
     "timestamp": 1600507297572,
     "user": {
      "displayName": "Michael Wagdy",
      "photoUrl": "https://lh3.googleusercontent.com/a-/AOh14Gg_u7pFkVZSSiFae2t32-35NZ5O2VflRaLq-gix=s64",
      "userId": "08989577666829319739"
     },
     "user_tz": -240
    },
    "id": "xGKzpmOfoAwQ",
    "outputId": "22fcffef-958c-4052-a58f-a7829231deef"
   },
   "outputs": [
    {
     "data": {
      "text/plain": [
       "(122410, 104)"
      ]
     },
     "execution_count": 11,
     "metadata": {},
     "output_type": "execute_result"
    }
   ],
   "source": [
    "df.shape"
   ]
  },
  {
   "cell_type": "markdown",
   "metadata": {
    "colab_type": "text",
    "id": "NvcbJ55qoAwT"
   },
   "source": [
    "## Classes of data"
   ]
  },
  {
   "cell_type": "code",
   "execution_count": 12,
   "metadata": {
    "colab": {
     "base_uri": "https://localhost:8080/",
     "height": 1000
    },
    "colab_type": "code",
    "executionInfo": {
     "elapsed": 3564,
     "status": "ok",
     "timestamp": 1600507297572,
     "user": {
      "displayName": "Michael Wagdy",
      "photoUrl": "https://lh3.googleusercontent.com/a-/AOh14Gg_u7pFkVZSSiFae2t32-35NZ5O2VflRaLq-gix=s64",
      "userId": "08989577666829319739"
     },
     "user_tz": -240
    },
    "id": "X4_CYONDcm0n",
    "outputId": "452fd477-ac2b-4405-a0f0-1854d5729d8a",
    "scrolled": true
   },
   "outputs": [
    {
     "name": "stdout",
     "output_type": "stream",
     "text": [
      "<class 'pandas.core.frame.DataFrame'>\n",
      "RangeIndex: 122410 entries, 0 to 122409\n",
      "Columns: 104 entries, time_left to map7\n",
      "dtypes: float64(102), int32(1), int64(1)\n",
      "memory usage: 96.7 MB\n"
     ]
    }
   ],
   "source": [
    "df.info()"
   ]
  },
  {
   "cell_type": "code",
   "execution_count": 13,
   "metadata": {
    "colab": {
     "base_uri": "https://localhost:8080/",
     "height": 346
    },
    "colab_type": "code",
    "executionInfo": {
     "elapsed": 4616,
     "status": "ok",
     "timestamp": 1600507298674,
     "user": {
      "displayName": "Michael Wagdy",
      "photoUrl": "https://lh3.googleusercontent.com/a-/AOh14Gg_u7pFkVZSSiFae2t32-35NZ5O2VflRaLq-gix=s64",
      "userId": "08989577666829319739"
     },
     "user_tz": -240
    },
    "id": "PTxEstdQoAwU",
    "outputId": "b73de7b5-4064-4762-d77a-bf0bce4a4458"
   },
   "outputs": [
    {
     "data": {
      "text/html": [
       "<div>\n",
       "<style scoped>\n",
       "    .dataframe tbody tr th:only-of-type {\n",
       "        vertical-align: middle;\n",
       "    }\n",
       "\n",
       "    .dataframe tbody tr th {\n",
       "        vertical-align: top;\n",
       "    }\n",
       "\n",
       "    .dataframe thead th {\n",
       "        text-align: right;\n",
       "    }\n",
       "</style>\n",
       "<table border=\"1\" class=\"dataframe\">\n",
       "  <thead>\n",
       "    <tr style=\"text-align: right;\">\n",
       "      <th></th>\n",
       "      <th>time_left</th>\n",
       "      <th>ct_score</th>\n",
       "      <th>t_score</th>\n",
       "      <th>bomb_planted</th>\n",
       "      <th>ct_health</th>\n",
       "      <th>t_health</th>\n",
       "      <th>ct_armor</th>\n",
       "      <th>t_armor</th>\n",
       "      <th>ct_money</th>\n",
       "      <th>t_money</th>\n",
       "      <th>...</th>\n",
       "      <th>t_grenade_decoygrenade</th>\n",
       "      <th>round_winner</th>\n",
       "      <th>map0</th>\n",
       "      <th>map1</th>\n",
       "      <th>map2</th>\n",
       "      <th>map3</th>\n",
       "      <th>map4</th>\n",
       "      <th>map5</th>\n",
       "      <th>map6</th>\n",
       "      <th>map7</th>\n",
       "    </tr>\n",
       "  </thead>\n",
       "  <tbody>\n",
       "    <tr>\n",
       "      <th>count</th>\n",
       "      <td>122410.000000</td>\n",
       "      <td>122410.000000</td>\n",
       "      <td>122410.000000</td>\n",
       "      <td>122410.000000</td>\n",
       "      <td>122410.000000</td>\n",
       "      <td>122410.000000</td>\n",
       "      <td>122410.000000</td>\n",
       "      <td>122410.000000</td>\n",
       "      <td>122410.000000</td>\n",
       "      <td>122410.000000</td>\n",
       "      <td>...</td>\n",
       "      <td>122410.000000</td>\n",
       "      <td>122410.000000</td>\n",
       "      <td>122410.000000</td>\n",
       "      <td>122410.000000</td>\n",
       "      <td>122410.000000</td>\n",
       "      <td>122410.000000</td>\n",
       "      <td>122410.000000</td>\n",
       "      <td>122410.000000</td>\n",
       "      <td>122410.000000</td>\n",
       "      <td>122410.000000</td>\n",
       "    </tr>\n",
       "    <tr>\n",
       "      <th>mean</th>\n",
       "      <td>97.886922</td>\n",
       "      <td>6.709239</td>\n",
       "      <td>6.780435</td>\n",
       "      <td>0.111788</td>\n",
       "      <td>412.106568</td>\n",
       "      <td>402.714500</td>\n",
       "      <td>314.142121</td>\n",
       "      <td>298.444670</td>\n",
       "      <td>9789.023773</td>\n",
       "      <td>11241.036680</td>\n",
       "      <td>...</td>\n",
       "      <td>0.025750</td>\n",
       "      <td>0.509811</td>\n",
       "      <td>0.001185</td>\n",
       "      <td>0.180900</td>\n",
       "      <td>0.194518</td>\n",
       "      <td>0.151752</td>\n",
       "      <td>0.155420</td>\n",
       "      <td>0.115031</td>\n",
       "      <td>0.110212</td>\n",
       "      <td>0.090981</td>\n",
       "    </tr>\n",
       "    <tr>\n",
       "      <th>std</th>\n",
       "      <td>54.465238</td>\n",
       "      <td>4.790362</td>\n",
       "      <td>4.823543</td>\n",
       "      <td>0.315107</td>\n",
       "      <td>132.293290</td>\n",
       "      <td>139.919033</td>\n",
       "      <td>171.029736</td>\n",
       "      <td>174.576545</td>\n",
       "      <td>11215.042286</td>\n",
       "      <td>12162.806759</td>\n",
       "      <td>...</td>\n",
       "      <td>0.164162</td>\n",
       "      <td>0.499906</td>\n",
       "      <td>0.034397</td>\n",
       "      <td>0.384937</td>\n",
       "      <td>0.395831</td>\n",
       "      <td>0.358782</td>\n",
       "      <td>0.362306</td>\n",
       "      <td>0.319061</td>\n",
       "      <td>0.313155</td>\n",
       "      <td>0.287583</td>\n",
       "    </tr>\n",
       "    <tr>\n",
       "      <th>min</th>\n",
       "      <td>0.010000</td>\n",
       "      <td>0.000000</td>\n",
       "      <td>0.000000</td>\n",
       "      <td>0.000000</td>\n",
       "      <td>0.000000</td>\n",
       "      <td>0.000000</td>\n",
       "      <td>0.000000</td>\n",
       "      <td>0.000000</td>\n",
       "      <td>0.000000</td>\n",
       "      <td>0.000000</td>\n",
       "      <td>...</td>\n",
       "      <td>0.000000</td>\n",
       "      <td>0.000000</td>\n",
       "      <td>0.000000</td>\n",
       "      <td>0.000000</td>\n",
       "      <td>0.000000</td>\n",
       "      <td>0.000000</td>\n",
       "      <td>0.000000</td>\n",
       "      <td>0.000000</td>\n",
       "      <td>0.000000</td>\n",
       "      <td>0.000000</td>\n",
       "    </tr>\n",
       "    <tr>\n",
       "      <th>25%</th>\n",
       "      <td>54.920000</td>\n",
       "      <td>3.000000</td>\n",
       "      <td>3.000000</td>\n",
       "      <td>0.000000</td>\n",
       "      <td>350.000000</td>\n",
       "      <td>322.000000</td>\n",
       "      <td>194.000000</td>\n",
       "      <td>174.000000</td>\n",
       "      <td>1300.000000</td>\n",
       "      <td>1550.000000</td>\n",
       "      <td>...</td>\n",
       "      <td>0.000000</td>\n",
       "      <td>0.000000</td>\n",
       "      <td>0.000000</td>\n",
       "      <td>0.000000</td>\n",
       "      <td>0.000000</td>\n",
       "      <td>0.000000</td>\n",
       "      <td>0.000000</td>\n",
       "      <td>0.000000</td>\n",
       "      <td>0.000000</td>\n",
       "      <td>0.000000</td>\n",
       "    </tr>\n",
       "    <tr>\n",
       "      <th>50%</th>\n",
       "      <td>94.910000</td>\n",
       "      <td>6.000000</td>\n",
       "      <td>6.000000</td>\n",
       "      <td>0.000000</td>\n",
       "      <td>500.000000</td>\n",
       "      <td>500.000000</td>\n",
       "      <td>377.000000</td>\n",
       "      <td>334.000000</td>\n",
       "      <td>5500.000000</td>\n",
       "      <td>7150.000000</td>\n",
       "      <td>...</td>\n",
       "      <td>0.000000</td>\n",
       "      <td>1.000000</td>\n",
       "      <td>0.000000</td>\n",
       "      <td>0.000000</td>\n",
       "      <td>0.000000</td>\n",
       "      <td>0.000000</td>\n",
       "      <td>0.000000</td>\n",
       "      <td>0.000000</td>\n",
       "      <td>0.000000</td>\n",
       "      <td>0.000000</td>\n",
       "    </tr>\n",
       "    <tr>\n",
       "      <th>75%</th>\n",
       "      <td>166.917500</td>\n",
       "      <td>10.000000</td>\n",
       "      <td>10.000000</td>\n",
       "      <td>0.000000</td>\n",
       "      <td>500.000000</td>\n",
       "      <td>500.000000</td>\n",
       "      <td>486.000000</td>\n",
       "      <td>468.000000</td>\n",
       "      <td>14600.000000</td>\n",
       "      <td>18000.000000</td>\n",
       "      <td>...</td>\n",
       "      <td>0.000000</td>\n",
       "      <td>1.000000</td>\n",
       "      <td>0.000000</td>\n",
       "      <td>0.000000</td>\n",
       "      <td>0.000000</td>\n",
       "      <td>0.000000</td>\n",
       "      <td>0.000000</td>\n",
       "      <td>0.000000</td>\n",
       "      <td>0.000000</td>\n",
       "      <td>0.000000</td>\n",
       "    </tr>\n",
       "    <tr>\n",
       "      <th>max</th>\n",
       "      <td>175.000000</td>\n",
       "      <td>32.000000</td>\n",
       "      <td>33.000000</td>\n",
       "      <td>1.000000</td>\n",
       "      <td>500.000000</td>\n",
       "      <td>600.000000</td>\n",
       "      <td>500.000000</td>\n",
       "      <td>500.000000</td>\n",
       "      <td>80000.000000</td>\n",
       "      <td>80000.000000</td>\n",
       "      <td>...</td>\n",
       "      <td>2.000000</td>\n",
       "      <td>1.000000</td>\n",
       "      <td>1.000000</td>\n",
       "      <td>1.000000</td>\n",
       "      <td>1.000000</td>\n",
       "      <td>1.000000</td>\n",
       "      <td>1.000000</td>\n",
       "      <td>1.000000</td>\n",
       "      <td>1.000000</td>\n",
       "      <td>1.000000</td>\n",
       "    </tr>\n",
       "  </tbody>\n",
       "</table>\n",
       "<p>8 rows × 104 columns</p>\n",
       "</div>"
      ],
      "text/plain": [
       "           time_left       ct_score        t_score   bomb_planted  \\\n",
       "count  122410.000000  122410.000000  122410.000000  122410.000000   \n",
       "mean       97.886922       6.709239       6.780435       0.111788   \n",
       "std        54.465238       4.790362       4.823543       0.315107   \n",
       "min         0.010000       0.000000       0.000000       0.000000   \n",
       "25%        54.920000       3.000000       3.000000       0.000000   \n",
       "50%        94.910000       6.000000       6.000000       0.000000   \n",
       "75%       166.917500      10.000000      10.000000       0.000000   \n",
       "max       175.000000      32.000000      33.000000       1.000000   \n",
       "\n",
       "           ct_health       t_health       ct_armor        t_armor  \\\n",
       "count  122410.000000  122410.000000  122410.000000  122410.000000   \n",
       "mean      412.106568     402.714500     314.142121     298.444670   \n",
       "std       132.293290     139.919033     171.029736     174.576545   \n",
       "min         0.000000       0.000000       0.000000       0.000000   \n",
       "25%       350.000000     322.000000     194.000000     174.000000   \n",
       "50%       500.000000     500.000000     377.000000     334.000000   \n",
       "75%       500.000000     500.000000     486.000000     468.000000   \n",
       "max       500.000000     600.000000     500.000000     500.000000   \n",
       "\n",
       "            ct_money        t_money  ...  t_grenade_decoygrenade  \\\n",
       "count  122410.000000  122410.000000  ...           122410.000000   \n",
       "mean     9789.023773   11241.036680  ...                0.025750   \n",
       "std     11215.042286   12162.806759  ...                0.164162   \n",
       "min         0.000000       0.000000  ...                0.000000   \n",
       "25%      1300.000000    1550.000000  ...                0.000000   \n",
       "50%      5500.000000    7150.000000  ...                0.000000   \n",
       "75%     14600.000000   18000.000000  ...                0.000000   \n",
       "max     80000.000000   80000.000000  ...                2.000000   \n",
       "\n",
       "        round_winner           map0           map1           map2  \\\n",
       "count  122410.000000  122410.000000  122410.000000  122410.000000   \n",
       "mean        0.509811       0.001185       0.180900       0.194518   \n",
       "std         0.499906       0.034397       0.384937       0.395831   \n",
       "min         0.000000       0.000000       0.000000       0.000000   \n",
       "25%         0.000000       0.000000       0.000000       0.000000   \n",
       "50%         1.000000       0.000000       0.000000       0.000000   \n",
       "75%         1.000000       0.000000       0.000000       0.000000   \n",
       "max         1.000000       1.000000       1.000000       1.000000   \n",
       "\n",
       "                map3           map4           map5           map6  \\\n",
       "count  122410.000000  122410.000000  122410.000000  122410.000000   \n",
       "mean        0.151752       0.155420       0.115031       0.110212   \n",
       "std         0.358782       0.362306       0.319061       0.313155   \n",
       "min         0.000000       0.000000       0.000000       0.000000   \n",
       "25%         0.000000       0.000000       0.000000       0.000000   \n",
       "50%         0.000000       0.000000       0.000000       0.000000   \n",
       "75%         0.000000       0.000000       0.000000       0.000000   \n",
       "max         1.000000       1.000000       1.000000       1.000000   \n",
       "\n",
       "                map7  \n",
       "count  122410.000000  \n",
       "mean        0.090981  \n",
       "std         0.287583  \n",
       "min         0.000000  \n",
       "25%         0.000000  \n",
       "50%         0.000000  \n",
       "75%         0.000000  \n",
       "max         1.000000  \n",
       "\n",
       "[8 rows x 104 columns]"
      ]
     },
     "execution_count": 13,
     "metadata": {},
     "output_type": "execute_result"
    }
   ],
   "source": [
    "df.describe()"
   ]
  },
  {
   "cell_type": "markdown",
   "metadata": {
    "colab_type": "text",
    "id": "PpUrS55toAwX"
   },
   "source": [
    "## Missing values"
   ]
  },
  {
   "cell_type": "code",
   "execution_count": 14,
   "metadata": {
    "colab": {
     "base_uri": "https://localhost:8080/",
     "height": 221
    },
    "colab_type": "code",
    "executionInfo": {
     "elapsed": 4554,
     "status": "ok",
     "timestamp": 1600507298675,
     "user": {
      "displayName": "Michael Wagdy",
      "photoUrl": "https://lh3.googleusercontent.com/a-/AOh14Gg_u7pFkVZSSiFae2t32-35NZ5O2VflRaLq-gix=s64",
      "userId": "08989577666829319739"
     },
     "user_tz": -240
    },
    "id": "IM8SYVoAoAwX",
    "outputId": "7733ff0a-b021-47ff-ff3e-43edb62fc89e"
   },
   "outputs": [
    {
     "data": {
      "text/plain": [
       "time_left       0.0\n",
       "ct_score        0.0\n",
       "t_score         0.0\n",
       "bomb_planted    0.0\n",
       "ct_health       0.0\n",
       "               ... \n",
       "map3            0.0\n",
       "map4            0.0\n",
       "map5            0.0\n",
       "map6            0.0\n",
       "map7            0.0\n",
       "Length: 104, dtype: float64"
      ]
     },
     "execution_count": 14,
     "metadata": {},
     "output_type": "execute_result"
    }
   ],
   "source": [
    "100*df.isnull().sum()/df.isnull().count()"
   ]
  },
  {
   "cell_type": "markdown",
   "metadata": {
    "colab_type": "text",
    "id": "luXZ9HQToAwg"
   },
   "source": [
    "## Distribution of data"
   ]
  },
  {
   "cell_type": "code",
   "execution_count": 15,
   "metadata": {
    "colab": {
     "base_uri": "https://localhost:8080/",
     "height": 934
    },
    "colab_type": "code",
    "executionInfo": {
     "elapsed": 30153,
     "status": "ok",
     "timestamp": 1600507324562,
     "user": {
      "displayName": "Michael Wagdy",
      "photoUrl": "https://lh3.googleusercontent.com/a-/AOh14Gg_u7pFkVZSSiFae2t32-35NZ5O2VflRaLq-gix=s64",
      "userId": "08989577666829319739"
     },
     "user_tz": -240
    },
    "id": "wfbJuE3Zznrg",
    "outputId": "b44d4044-7f2c-422f-82df-32ed01b8f6a4"
   },
   "outputs": [
    {
     "data": {
      "image/png": "[encoded data removed]",
      "text/plain": [
       "<Figure size 1800x1152 with 110 Axes>"
      ]
     },
     "metadata": {
      "needs_background": "light"
     },
     "output_type": "display_data"
    }
   ],
   "source": [
    "import matplotlib.pylab as plt\n",
    "attribute_columns = list(df.columns)\n",
    "if True:\n",
    "    fontsize = 10\n",
    "    fig = df[attribute_columns].hist(bins = 10, figsize = (25, 16),\n",
    "                                       xlabelsize=fontsize,\n",
    "                                       ylabelsize=fontsize)\n",
    "    for x in fig.ravel():\n",
    "        x.title.set_size(fontsize)\n",
    "else:\n",
    "    nrows = (len(attribute_columns)+1) // 2\n",
    "    plt.figure(figsize=(12,25))\n",
    "    for i in range(len(attribute_columns)):\n",
    "        name = attribute_columns[i]\n",
    "        plt.subplot(nrows,2,i+1)\n",
    "        data[name].hist()\n",
    "        plt.title(name, fontsize=14)\n",
    "    \n",
    "plt.show()"
   ]
  },
  {
   "cell_type": "markdown",
   "metadata": {
    "colab_type": "text",
    "id": "9JHFDpH1oAwo"
   },
   "source": [
    "## Rows with duplicate data"
   ]
  },
  {
   "cell_type": "code",
   "execution_count": 16,
   "metadata": {
    "colab": {
     "base_uri": "https://localhost:8080/",
     "height": 34
    },
    "colab_type": "code",
    "executionInfo": {
     "elapsed": 5006,
     "status": "ok",
     "timestamp": 1600507299226,
     "user": {
      "displayName": "Michael Wagdy",
      "photoUrl": "https://lh3.googleusercontent.com/a-/AOh14Gg_u7pFkVZSSiFae2t32-35NZ5O2VflRaLq-gix=s64",
      "userId": "08989577666829319739"
     },
     "user_tz": -240
    },
    "id": "5Qaf5Js3oAwp",
    "outputId": "60c14397-cd4a-4551-bbcc-a6390977459c"
   },
   "outputs": [
    {
     "name": "stdout",
     "output_type": "stream",
     "text": [
      "number of duplicate rows:  (4962, 104)\n"
     ]
    }
   ],
   "source": [
    "duplicate_rows_df = df[df.duplicated()]\n",
    "print(\"number of duplicate rows: \", duplicate_rows_df.shape)"
   ]
  },
  {
   "cell_type": "markdown",
   "metadata": {
    "colab_type": "text",
    "id": "bPG8_eftoAws"
   },
   "source": [
    "## Columns with constant values"
   ]
  },
  {
   "cell_type": "code",
   "execution_count": 17,
   "metadata": {
    "colab": {
     "base_uri": "https://localhost:8080/",
     "height": 68
    },
    "colab_type": "code",
    "executionInfo": {
     "elapsed": 6519,
     "status": "ok",
     "timestamp": 1600507300784,
     "user": {
      "displayName": "Michael Wagdy",
      "photoUrl": "https://lh3.googleusercontent.com/a-/AOh14Gg_u7pFkVZSSiFae2t32-35NZ5O2VflRaLq-gix=s64",
      "userId": "08989577666829319739"
     },
     "user_tz": -240
    },
    "id": "z6ka1728oAwt",
    "outputId": "e4a60493-de26-4fb1-9538-4c780a4e8513",
    "scrolled": true
   },
   "outputs": [
    {
     "data": {
      "text/plain": [
       "['ct_weapon_bizon',\n",
       " 'ct_weapon_g3sg1',\n",
       " 't_weapon_m249',\n",
       " 'ct_weapon_negev',\n",
       " 'ct_weapon_r8revolver',\n",
       " 'ct_weapon_sawedoff']"
      ]
     },
     "execution_count": 17,
     "metadata": {},
     "output_type": "execute_result"
    }
   ],
   "source": [
    "fixed_values = df.columns[df.nunique() == 1]\n",
    "fixed_values = fixed_values.tolist()\n",
    "fixed_values"
   ]
  },
  {
   "cell_type": "markdown",
   "metadata": {
    "colab_type": "text",
    "id": "rKPTBBoEcazB"
   },
   "source": [
    "## Correlation"
   ]
  },
  {
   "cell_type": "code",
   "execution_count": 18,
   "metadata": {
    "colab": {
     "base_uri": "https://localhost:8080/",
     "height": 102
    },
    "colab_type": "code",
    "executionInfo": {
     "elapsed": 34166,
     "status": "ok",
     "timestamp": 1600507328605,
     "user": {
      "displayName": "Michael Wagdy",
      "photoUrl": "https://lh3.googleusercontent.com/a-/AOh14Gg_u7pFkVZSSiFae2t32-35NZ5O2VflRaLq-gix=s64",
      "userId": "08989577666829319739"
     },
     "user_tz": -240
    },
    "id": "wVDHlr7ScazC",
    "outputId": "b31cc71e-cab6-4874-9f1a-ec2a7e2667c0",
    "scrolled": true
   },
   "outputs": [
    {
     "name": "stdout",
     "output_type": "stream",
     "text": [
      "Top Absolute Correlations\n",
      "ct_health  ct_players_alive    0.971630\n",
      "t_health   t_players_alive     0.955859\n",
      "t_armor    t_helmets           0.877626\n",
      "dtype: float64\n"
     ]
    }
   ],
   "source": [
    "def get_redundant_pairs(df):\n",
    "    '''Get diagonal and lower triangular pairs of correlation matrix'''\n",
    "    pairs_to_drop = set()\n",
    "    cols = df.columns\n",
    "    for i in range(0, df.shape[1]):\n",
    "        for j in range(0, i+1):\n",
    "            pairs_to_drop.add((cols[i], cols[j]))\n",
    "    return pairs_to_drop\n",
    "\n",
    "\n",
    "def get_top_abs_correlations(df, n=5):\n",
    "    au_corr = df.corr().abs().unstack()\n",
    "    labels_to_drop = get_redundant_pairs(df)\n",
    "    au_corr = au_corr.drop(labels=labels_to_drop).sort_values(ascending=False)\n",
    "    return au_corr[0:n]\n",
    "\n",
    "print(\"Top Absolute Correlations\")\n",
    "print(get_top_abs_correlations(df, 3))"
   ]
  },
  {
   "cell_type": "markdown",
   "metadata": {
    "colab_type": "text",
    "id": "ex5SYlhJoAwH"
   },
   "source": [
    "---"
   ]
  },
  {
   "cell_type": "markdown",
   "metadata": {
    "colab_type": "text",
    "id": "uxa_UeOWoAwb"
   },
   "source": [
    "<h1><center>  <font color='blue'> Data cleaning, part 2 </font </center></h1>"
   ]
  },
  {
   "cell_type": "code",
   "execution_count": 19,
   "metadata": {},
   "outputs": [
    {
     "data": {
      "text/plain": [
       "(122410, 104)"
      ]
     },
     "execution_count": 19,
     "metadata": {},
     "output_type": "execute_result"
    }
   ],
   "source": [
    "df.shape"
   ]
  },
  {
   "cell_type": "markdown",
   "metadata": {
    "colab_type": "text",
    "id": "YgF2HVxnuQeC"
   },
   "source": [
    "## Remove columns with constant values"
   ]
  },
  {
   "cell_type": "code",
   "execution_count": 20,
   "metadata": {
    "colab": {
     "base_uri": "https://localhost:8080/",
     "height": 527
    },
    "colab_type": "code",
    "executionInfo": {
     "elapsed": 6505,
     "status": "ok",
     "timestamp": 1600507300785,
     "user": {
      "displayName": "Michael Wagdy",
      "photoUrl": "https://lh3.googleusercontent.com/a-/AOh14Gg_u7pFkVZSSiFae2t32-35NZ5O2VflRaLq-gix=s64",
      "userId": "08989577666829319739"
     },
     "user_tz": -240
    },
    "id": "dJCwGUTlqr-8",
    "outputId": "0f39c2f5-aea6-4f14-abec-5670ae3480cb",
    "scrolled": false
   },
   "outputs": [
    {
     "data": {
      "text/plain": [
       "(122410, 98)"
      ]
     },
     "execution_count": 20,
     "metadata": {},
     "output_type": "execute_result"
    }
   ],
   "source": [
    "df.drop(fixed_values, axis = 1, inplace = True)\n",
    "df.shape"
   ]
  },
  {
   "cell_type": "markdown",
   "metadata": {
    "colab_type": "text",
    "id": "3Z8qsLbvcazE"
   },
   "source": [
    "## Drop highy correlated columns"
   ]
  },
  {
   "cell_type": "code",
   "execution_count": 21,
   "metadata": {
    "colab": {
     "base_uri": "https://localhost:8080/",
     "height": 34
    },
    "colab_type": "code",
    "executionInfo": {
     "elapsed": 34160,
     "status": "ok",
     "timestamp": 1600507328607,
     "user": {
      "displayName": "Michael Wagdy",
      "photoUrl": "https://lh3.googleusercontent.com/a-/AOh14Gg_u7pFkVZSSiFae2t32-35NZ5O2VflRaLq-gix=s64",
      "userId": "08989577666829319739"
     },
     "user_tz": -240
    },
    "id": "eXPJqWEIcazI",
    "outputId": "605e24dd-049c-4d9b-c908-955d3718f845"
   },
   "outputs": [
    {
     "data": {
      "text/plain": [
       "(122410, 95)"
      ]
     },
     "execution_count": 21,
     "metadata": {},
     "output_type": "execute_result"
    }
   ],
   "source": [
    "df.drop(['ct_players_alive', 't_players_alive', 't_helmets'], axis = 1, inplace = True) \n",
    "df.shape"
   ]
  },
  {
   "cell_type": "markdown",
   "metadata": {},
   "source": [
    "## Remove rows with duplicate data"
   ]
  },
  {
   "cell_type": "code",
   "execution_count": 22,
   "metadata": {},
   "outputs": [
    {
     "data": {
      "text/plain": [
       "(115506, 95)"
      ]
     },
     "execution_count": 22,
     "metadata": {},
     "output_type": "execute_result"
    }
   ],
   "source": [
    "df = df.drop_duplicates(keep=False)\n",
    "df.shape"
   ]
  },
  {
   "cell_type": "markdown",
   "metadata": {},
   "source": [
    "Remove rows with duplicate data"
   ]
  },
  {
   "cell_type": "markdown",
   "metadata": {
    "colab_type": "text",
    "id": "3Z8qsLbvcazE"
   },
   "source": [
    "## Separate validation set"
   ]
  },
  {
   "cell_type": "code",
   "execution_count": 23,
   "metadata": {
    "colab": {
     "base_uri": "https://localhost:8080/",
     "height": 34
    },
    "colab_type": "code",
    "executionInfo": {
     "elapsed": 34160,
     "status": "ok",
     "timestamp": 1600507328607,
     "user": {
      "displayName": "Michael Wagdy",
      "photoUrl": "https://lh3.googleusercontent.com/a-/AOh14Gg_u7pFkVZSSiFae2t32-35NZ5O2VflRaLq-gix=s64",
      "userId": "08989577666829319739"
     },
     "user_tz": -240
    },
    "id": "eXPJqWEIcazI",
    "outputId": "605e24dd-049c-4d9b-c908-955d3718f845"
   },
   "outputs": [
    {
     "name": "stdout",
     "output_type": "stream",
     "text": [
      "(80854, 94)\n",
      "(34652, 94)\n",
      "(80854,)\n",
      "(34652,)\n"
     ]
    }
   ],
   "source": [
    "from sklearn.model_selection import train_test_split\n",
    "\n",
    "data = df\n",
    "\n",
    "target = 'round_winner'\n",
    "features = [column for column in data.columns if column != target]\n",
    "\n",
    "X, X_val, y, y_val = train_test_split(\n",
    "    data[features],\n",
    "    data[target],\n",
    "    test_size = 0.3,\n",
    "    random_state = 1,\n",
    "    stratify = data[target])\n",
    "\n",
    "print(X.shape)\n",
    "print(X_val.shape)\n",
    "print(y.shape)\n",
    "print(y_val.shape)"
   ]
  },
  {
   "cell_type": "code",
   "execution_count": 24,
   "metadata": {},
   "outputs": [],
   "source": [
    "#df = X\n",
    "#df_val = X_val\n",
    "#print(df.shape)\n",
    "#print(df_val.shape)"
   ]
  },
  {
   "cell_type": "code",
   "execution_count": 25,
   "metadata": {},
   "outputs": [],
   "source": [
    "#df_y = y\n",
    "#df_val_y = y_val\n",
    "#print(df_y.shape)\n",
    "#print(df_val_y.shape)"
   ]
  },
  {
   "cell_type": "markdown",
   "metadata": {
    "colab_type": "text",
    "id": "rSco1-XFtl6g"
   },
   "source": [
    "## Remove rows with duplicate data"
   ]
  },
  {
   "cell_type": "code",
   "execution_count": 26,
   "metadata": {
    "colab": {
     "base_uri": "https://localhost:8080/",
     "height": 255
    },
    "colab_type": "code",
    "executionInfo": {
     "elapsed": 5428,
     "status": "ok",
     "timestamp": 1600507299662,
     "user": {
      "displayName": "Michael Wagdy",
      "photoUrl": "https://lh3.googleusercontent.com/a-/AOh14Gg_u7pFkVZSSiFae2t32-35NZ5O2VflRaLq-gix=s64",
      "userId": "08989577666829319739"
     },
     "user_tz": -240
    },
    "id": "TepH94ZosbeX",
    "outputId": "30b1b243-b2e8-495f-844a-32e721ead741",
    "scrolled": true
   },
   "outputs": [],
   "source": [
    "#df = df.drop_duplicates(keep=False)\n",
    "#df.shape"
   ]
  },
  {
   "cell_type": "markdown",
   "metadata": {
    "colab_type": "text",
    "id": "86ZwtgJeoAzy"
   },
   "source": [
    "---"
   ]
  },
  {
   "cell_type": "markdown",
   "metadata": {},
   "source": [
    "<h1><center>  <font color='blue'> Modeling </font></center></h1> "
   ]
  },
  {
   "cell_type": "code",
   "execution_count": 27,
   "metadata": {
    "colab": {},
    "colab_type": "code",
    "id": "HcVaaBmAoAzy"
   },
   "outputs": [],
   "source": [
    "from sklearn.linear_model import LogisticRegression\n",
    "from sklearn.ensemble import RandomForestClassifier\n",
    "from xgboost import XGBClassifier\n",
    "from sklearn.preprocessing import StandardScaler\n",
    "from sklearn.discriminant_analysis import LinearDiscriminantAnalysis\n",
    "from sklearn.neighbors import KNeighborsClassifier\n",
    "import sklearn.feature_selection\n",
    "from sklearn.naive_bayes import GaussianNB\n",
    "from sklearn.tree import DecisionTreeClassifier\n",
    "from sklearn.model_selection import StratifiedKFold\n",
    "from sklearn.model_selection import train_test_split\n",
    "from sklearn.feature_selection import SelectFromModel\n",
    "from sklearn import preprocessing\n",
    "from sklearn.metrics import classification_report\n",
    "from sklearn.metrics import accuracy_score\n",
    "from sklearn.model_selection import GridSearchCV\n",
    "from sklearn.model_selection import cross_val_score\n",
    "import pickle\n",
    "from sklearn.model_selection import KFold\n",
    "from numpy import sort\n",
    "from numpy import sort\n",
    "import matplotlib\n",
    "matplotlib.use('Agg')\n",
    "from matplotlib import pyplot\n",
    "import warnings\n",
    "warnings.filterwarnings('ignore')"
   ]
  },
  {
   "cell_type": "markdown",
   "metadata": {},
   "source": [
    "### Split the Dataset into Features & Predictable"
   ]
  },
  {
   "cell_type": "code",
   "execution_count": 28,
   "metadata": {},
   "outputs": [],
   "source": [
    "#Scale features\n",
    "names = X.columns\n",
    "scaler = preprocessing.StandardScaler()\n",
    "scaled_features = scaler.fit_transform(X)\n",
    "scaled_features = pd.DataFrame(scaled_features, columns=names)"
   ]
  },
  {
   "cell_type": "code",
   "execution_count": 29,
   "metadata": {},
   "outputs": [
    {
     "data": {
      "text/html": [
       "<div>\n",
       "<style scoped>\n",
       "    .dataframe tbody tr th:only-of-type {\n",
       "        vertical-align: middle;\n",
       "    }\n",
       "\n",
       "    .dataframe tbody tr th {\n",
       "        vertical-align: top;\n",
       "    }\n",
       "\n",
       "    .dataframe thead th {\n",
       "        text-align: right;\n",
       "    }\n",
       "</style>\n",
       "<table border=\"1\" class=\"dataframe\">\n",
       "  <thead>\n",
       "    <tr style=\"text-align: right;\">\n",
       "      <th></th>\n",
       "      <th>time_left</th>\n",
       "      <th>ct_score</th>\n",
       "      <th>t_score</th>\n",
       "      <th>bomb_planted</th>\n",
       "      <th>ct_health</th>\n",
       "      <th>t_health</th>\n",
       "      <th>ct_armor</th>\n",
       "      <th>t_armor</th>\n",
       "      <th>ct_money</th>\n",
       "      <th>t_money</th>\n",
       "      <th>...</th>\n",
       "      <th>ct_grenade_decoygrenade</th>\n",
       "      <th>t_grenade_decoygrenade</th>\n",
       "      <th>map0</th>\n",
       "      <th>map1</th>\n",
       "      <th>map2</th>\n",
       "      <th>map3</th>\n",
       "      <th>map4</th>\n",
       "      <th>map5</th>\n",
       "      <th>map6</th>\n",
       "      <th>map7</th>\n",
       "    </tr>\n",
       "  </thead>\n",
       "  <tbody>\n",
       "    <tr>\n",
       "      <th>0</th>\n",
       "      <td>-1.522878</td>\n",
       "      <td>1.703832</td>\n",
       "      <td>-0.383852</td>\n",
       "      <td>2.731658</td>\n",
       "      <td>-0.997320</td>\n",
       "      <td>-1.279807</td>\n",
       "      <td>-0.134276</td>\n",
       "      <td>0.455194</td>\n",
       "      <td>-0.843096</td>\n",
       "      <td>-0.805823</td>\n",
       "      <td>...</td>\n",
       "      <td>-0.164133</td>\n",
       "      <td>-0.154347</td>\n",
       "      <td>-0.034836</td>\n",
       "      <td>-0.46994</td>\n",
       "      <td>2.028724</td>\n",
       "      <td>-0.423743</td>\n",
       "      <td>-0.424271</td>\n",
       "      <td>-0.359113</td>\n",
       "      <td>-0.353470</td>\n",
       "      <td>-0.318980</td>\n",
       "    </tr>\n",
       "    <tr>\n",
       "      <th>1</th>\n",
       "      <td>-1.490061</td>\n",
       "      <td>-1.411533</td>\n",
       "      <td>-1.210584</td>\n",
       "      <td>-0.366078</td>\n",
       "      <td>-1.704113</td>\n",
       "      <td>-2.391526</td>\n",
       "      <td>-0.828023</td>\n",
       "      <td>-1.183969</td>\n",
       "      <td>-0.763559</td>\n",
       "      <td>-0.895169</td>\n",
       "      <td>...</td>\n",
       "      <td>-0.164133</td>\n",
       "      <td>-0.154347</td>\n",
       "      <td>-0.034836</td>\n",
       "      <td>-0.46994</td>\n",
       "      <td>-0.492921</td>\n",
       "      <td>-0.423743</td>\n",
       "      <td>-0.424271</td>\n",
       "      <td>-0.359113</td>\n",
       "      <td>2.829096</td>\n",
       "      <td>-0.318980</td>\n",
       "    </tr>\n",
       "    <tr>\n",
       "      <th>2</th>\n",
       "      <td>0.029933</td>\n",
       "      <td>0.249995</td>\n",
       "      <td>1.062930</td>\n",
       "      <td>-0.366078</td>\n",
       "      <td>-0.052449</td>\n",
       "      <td>0.021890</td>\n",
       "      <td>0.289028</td>\n",
       "      <td>0.547217</td>\n",
       "      <td>0.049487</td>\n",
       "      <td>-0.777394</td>\n",
       "      <td>...</td>\n",
       "      <td>-0.164133</td>\n",
       "      <td>-0.154347</td>\n",
       "      <td>-0.034836</td>\n",
       "      <td>-0.46994</td>\n",
       "      <td>-0.492921</td>\n",
       "      <td>2.359920</td>\n",
       "      <td>-0.424271</td>\n",
       "      <td>-0.359113</td>\n",
       "      <td>-0.353470</td>\n",
       "      <td>-0.318980</td>\n",
       "    </tr>\n",
       "    <tr>\n",
       "      <th>3</th>\n",
       "      <td>-1.487974</td>\n",
       "      <td>-0.373078</td>\n",
       "      <td>1.682979</td>\n",
       "      <td>-0.366078</td>\n",
       "      <td>-0.796442</td>\n",
       "      <td>-2.088970</td>\n",
       "      <td>-0.110759</td>\n",
       "      <td>-1.172466</td>\n",
       "      <td>-0.798908</td>\n",
       "      <td>-0.822067</td>\n",
       "      <td>...</td>\n",
       "      <td>-0.164133</td>\n",
       "      <td>-0.154347</td>\n",
       "      <td>-0.034836</td>\n",
       "      <td>-0.46994</td>\n",
       "      <td>2.028724</td>\n",
       "      <td>-0.423743</td>\n",
       "      <td>-0.424271</td>\n",
       "      <td>-0.359113</td>\n",
       "      <td>-0.353470</td>\n",
       "      <td>-0.318980</td>\n",
       "    </tr>\n",
       "    <tr>\n",
       "      <th>4</th>\n",
       "      <td>0.409126</td>\n",
       "      <td>0.665377</td>\n",
       "      <td>1.476296</td>\n",
       "      <td>-0.366078</td>\n",
       "      <td>0.691543</td>\n",
       "      <td>0.725510</td>\n",
       "      <td>0.477162</td>\n",
       "      <td>0.978576</td>\n",
       "      <td>-0.865189</td>\n",
       "      <td>0.798344</td>\n",
       "      <td>...</td>\n",
       "      <td>-0.164133</td>\n",
       "      <td>-0.154347</td>\n",
       "      <td>-0.034836</td>\n",
       "      <td>-0.46994</td>\n",
       "      <td>-0.492921</td>\n",
       "      <td>-0.423743</td>\n",
       "      <td>2.356984</td>\n",
       "      <td>-0.359113</td>\n",
       "      <td>-0.353470</td>\n",
       "      <td>-0.318980</td>\n",
       "    </tr>\n",
       "    <tr>\n",
       "      <th>...</th>\n",
       "      <td>...</td>\n",
       "      <td>...</td>\n",
       "      <td>...</td>\n",
       "      <td>...</td>\n",
       "      <td>...</td>\n",
       "      <td>...</td>\n",
       "      <td>...</td>\n",
       "      <td>...</td>\n",
       "      <td>...</td>\n",
       "      <td>...</td>\n",
       "      <td>...</td>\n",
       "      <td>...</td>\n",
       "      <td>...</td>\n",
       "      <td>...</td>\n",
       "      <td>...</td>\n",
       "      <td>...</td>\n",
       "      <td>...</td>\n",
       "      <td>...</td>\n",
       "      <td>...</td>\n",
       "      <td>...</td>\n",
       "      <td>...</td>\n",
       "    </tr>\n",
       "    <tr>\n",
       "      <th>80849</th>\n",
       "      <td>-0.729779</td>\n",
       "      <td>-0.580769</td>\n",
       "      <td>-0.383852</td>\n",
       "      <td>-0.366078</td>\n",
       "      <td>-0.498845</td>\n",
       "      <td>-2.236730</td>\n",
       "      <td>0.430129</td>\n",
       "      <td>-1.201224</td>\n",
       "      <td>-0.591228</td>\n",
       "      <td>-0.789578</td>\n",
       "      <td>...</td>\n",
       "      <td>-0.164133</td>\n",
       "      <td>-0.154347</td>\n",
       "      <td>-0.034836</td>\n",
       "      <td>-0.46994</td>\n",
       "      <td>-0.492921</td>\n",
       "      <td>-0.423743</td>\n",
       "      <td>-0.424271</td>\n",
       "      <td>2.784640</td>\n",
       "      <td>-0.353470</td>\n",
       "      <td>-0.318980</td>\n",
       "    </tr>\n",
       "    <tr>\n",
       "      <th>80850</th>\n",
       "      <td>-1.458383</td>\n",
       "      <td>-1.411533</td>\n",
       "      <td>-1.417267</td>\n",
       "      <td>-0.366078</td>\n",
       "      <td>-1.034519</td>\n",
       "      <td>-2.539286</td>\n",
       "      <td>-0.163672</td>\n",
       "      <td>-1.747611</td>\n",
       "      <td>-0.772396</td>\n",
       "      <td>-0.895169</td>\n",
       "      <td>...</td>\n",
       "      <td>-0.164133</td>\n",
       "      <td>-0.154347</td>\n",
       "      <td>-0.034836</td>\n",
       "      <td>-0.46994</td>\n",
       "      <td>-0.492921</td>\n",
       "      <td>-0.423743</td>\n",
       "      <td>-0.424271</td>\n",
       "      <td>-0.359113</td>\n",
       "      <td>-0.353470</td>\n",
       "      <td>3.134992</td>\n",
       "    </tr>\n",
       "    <tr>\n",
       "      <th>80851</th>\n",
       "      <td>-0.349828</td>\n",
       "      <td>0.457686</td>\n",
       "      <td>0.442881</td>\n",
       "      <td>-0.366078</td>\n",
       "      <td>0.535305</td>\n",
       "      <td>-2.088970</td>\n",
       "      <td>0.912224</td>\n",
       "      <td>-1.747611</td>\n",
       "      <td>-0.542622</td>\n",
       "      <td>-0.891107</td>\n",
       "      <td>...</td>\n",
       "      <td>-0.164133</td>\n",
       "      <td>-0.154347</td>\n",
       "      <td>-0.034836</td>\n",
       "      <td>-0.46994</td>\n",
       "      <td>-0.492921</td>\n",
       "      <td>-0.423743</td>\n",
       "      <td>2.356984</td>\n",
       "      <td>-0.359113</td>\n",
       "      <td>-0.353470</td>\n",
       "      <td>-0.318980</td>\n",
       "    </tr>\n",
       "    <tr>\n",
       "      <th>80852</th>\n",
       "      <td>1.452427</td>\n",
       "      <td>-1.411533</td>\n",
       "      <td>0.649564</td>\n",
       "      <td>-0.366078</td>\n",
       "      <td>0.691543</td>\n",
       "      <td>0.725510</td>\n",
       "      <td>-0.110759</td>\n",
       "      <td>-0.010674</td>\n",
       "      <td>1.719767</td>\n",
       "      <td>4.814852</td>\n",
       "      <td>...</td>\n",
       "      <td>-0.164133</td>\n",
       "      <td>-0.154347</td>\n",
       "      <td>-0.034836</td>\n",
       "      <td>-0.46994</td>\n",
       "      <td>2.028724</td>\n",
       "      <td>-0.423743</td>\n",
       "      <td>-0.424271</td>\n",
       "      <td>-0.359113</td>\n",
       "      <td>-0.353470</td>\n",
       "      <td>-0.318980</td>\n",
       "    </tr>\n",
       "    <tr>\n",
       "      <th>80853</th>\n",
       "      <td>-0.349828</td>\n",
       "      <td>-0.996151</td>\n",
       "      <td>-1.417267</td>\n",
       "      <td>-0.366078</td>\n",
       "      <td>-1.540434</td>\n",
       "      <td>-2.088970</td>\n",
       "      <td>-0.722197</td>\n",
       "      <td>-1.172466</td>\n",
       "      <td>-0.776815</td>\n",
       "      <td>-0.943903</td>\n",
       "      <td>...</td>\n",
       "      <td>-0.164133</td>\n",
       "      <td>-0.154347</td>\n",
       "      <td>-0.034836</td>\n",
       "      <td>-0.46994</td>\n",
       "      <td>-0.492921</td>\n",
       "      <td>-0.423743</td>\n",
       "      <td>-0.424271</td>\n",
       "      <td>-0.359113</td>\n",
       "      <td>-0.353470</td>\n",
       "      <td>3.134992</td>\n",
       "    </tr>\n",
       "  </tbody>\n",
       "</table>\n",
       "<p>80854 rows × 94 columns</p>\n",
       "</div>"
      ],
      "text/plain": [
       "       time_left  ct_score   t_score  bomb_planted  ct_health  t_health  \\\n",
       "0      -1.522878  1.703832 -0.383852      2.731658  -0.997320 -1.279807   \n",
       "1      -1.490061 -1.411533 -1.210584     -0.366078  -1.704113 -2.391526   \n",
       "2       0.029933  0.249995  1.062930     -0.366078  -0.052449  0.021890   \n",
       "3      -1.487974 -0.373078  1.682979     -0.366078  -0.796442 -2.088970   \n",
       "4       0.409126  0.665377  1.476296     -0.366078   0.691543  0.725510   \n",
       "...          ...       ...       ...           ...        ...       ...   \n",
       "80849  -0.729779 -0.580769 -0.383852     -0.366078  -0.498845 -2.236730   \n",
       "80850  -1.458383 -1.411533 -1.417267     -0.366078  -1.034519 -2.539286   \n",
       "80851  -0.349828  0.457686  0.442881     -0.366078   0.535305 -2.088970   \n",
       "80852   1.452427 -1.411533  0.649564     -0.366078   0.691543  0.725510   \n",
       "80853  -0.349828 -0.996151 -1.417267     -0.366078  -1.540434 -2.088970   \n",
       "\n",
       "       ct_armor   t_armor  ct_money   t_money  ...  ct_grenade_decoygrenade  \\\n",
       "0     -0.134276  0.455194 -0.843096 -0.805823  ...                -0.164133   \n",
       "1     -0.828023 -1.183969 -0.763559 -0.895169  ...                -0.164133   \n",
       "2      0.289028  0.547217  0.049487 -0.777394  ...                -0.164133   \n",
       "3     -0.110759 -1.172466 -0.798908 -0.822067  ...                -0.164133   \n",
       "4      0.477162  0.978576 -0.865189  0.798344  ...                -0.164133   \n",
       "...         ...       ...       ...       ...  ...                      ...   \n",
       "80849  0.430129 -1.201224 -0.591228 -0.789578  ...                -0.164133   \n",
       "80850 -0.163672 -1.747611 -0.772396 -0.895169  ...                -0.164133   \n",
       "80851  0.912224 -1.747611 -0.542622 -0.891107  ...                -0.164133   \n",
       "80852 -0.110759 -0.010674  1.719767  4.814852  ...                -0.164133   \n",
       "80853 -0.722197 -1.172466 -0.776815 -0.943903  ...                -0.164133   \n",
       "\n",
       "       t_grenade_decoygrenade      map0     map1      map2      map3  \\\n",
       "0                   -0.154347 -0.034836 -0.46994  2.028724 -0.423743   \n",
       "1                   -0.154347 -0.034836 -0.46994 -0.492921 -0.423743   \n",
       "2                   -0.154347 -0.034836 -0.46994 -0.492921  2.359920   \n",
       "3                   -0.154347 -0.034836 -0.46994  2.028724 -0.423743   \n",
       "4                   -0.154347 -0.034836 -0.46994 -0.492921 -0.423743   \n",
       "...                       ...       ...      ...       ...       ...   \n",
       "80849               -0.154347 -0.034836 -0.46994 -0.492921 -0.423743   \n",
       "80850               -0.154347 -0.034836 -0.46994 -0.492921 -0.423743   \n",
       "80851               -0.154347 -0.034836 -0.46994 -0.492921 -0.423743   \n",
       "80852               -0.154347 -0.034836 -0.46994  2.028724 -0.423743   \n",
       "80853               -0.154347 -0.034836 -0.46994 -0.492921 -0.423743   \n",
       "\n",
       "           map4      map5      map6      map7  \n",
       "0     -0.424271 -0.359113 -0.353470 -0.318980  \n",
       "1     -0.424271 -0.359113  2.829096 -0.318980  \n",
       "2     -0.424271 -0.359113 -0.353470 -0.318980  \n",
       "3     -0.424271 -0.359113 -0.353470 -0.318980  \n",
       "4      2.356984 -0.359113 -0.353470 -0.318980  \n",
       "...         ...       ...       ...       ...  \n",
       "80849 -0.424271  2.784640 -0.353470 -0.318980  \n",
       "80850 -0.424271 -0.359113 -0.353470  3.134992  \n",
       "80851  2.356984 -0.359113 -0.353470 -0.318980  \n",
       "80852 -0.424271 -0.359113 -0.353470 -0.318980  \n",
       "80853 -0.424271 -0.359113 -0.353470  3.134992  \n",
       "\n",
       "[80854 rows x 94 columns]"
      ]
     },
     "execution_count": 29,
     "metadata": {},
     "output_type": "execute_result"
    }
   ],
   "source": [
    "scaled_features"
   ]
  },
  {
   "cell_type": "code",
   "execution_count": 30,
   "metadata": {},
   "outputs": [],
   "source": [
    "#features_train, features_test, predict_train, predict_test = train_test_split(scaled_features,df_predictable, test_size = 0.30, random_state = 42)"
   ]
  },
  {
   "cell_type": "code",
   "execution_count": 31,
   "metadata": {},
   "outputs": [],
   "source": [
    "seed = 7\n",
    "test_size = 0.30\n",
    "X_train, X_test, y_train, y_test = train_test_split(scaled_features, y, test_size=test_size, random_state=seed)"
   ]
  },
  {
   "cell_type": "code",
   "execution_count": null,
   "metadata": {},
   "outputs": [],
   "source": []
  },
  {
   "cell_type": "markdown",
   "metadata": {},
   "source": [
    "### Logistic Regression"
   ]
  },
  {
   "cell_type": "code",
   "execution_count": 32,
   "metadata": {},
   "outputs": [],
   "source": [
    "logreg = LogisticRegression(random_state = 42)"
   ]
  },
  {
   "cell_type": "code",
   "execution_count": 33,
   "metadata": {},
   "outputs": [],
   "source": [
    "model = LogisticRegression(max_iter=10000)"
   ]
  },
  {
   "cell_type": "code",
   "execution_count": 34,
   "metadata": {},
   "outputs": [],
   "source": [
    "model = logreg.fit(X_train, y_train)"
   ]
  },
  {
   "cell_type": "code",
   "execution_count": 35,
   "metadata": {},
   "outputs": [],
   "source": [
    "predicted_r = model.predict(X_test)"
   ]
  },
  {
   "cell_type": "markdown",
   "metadata": {},
   "source": [
    "\n",
    "### Calculate Accuracy"
   ]
  },
  {
   "cell_type": "code",
   "execution_count": 36,
   "metadata": {},
   "outputs": [
    {
     "name": "stdout",
     "output_type": "stream",
     "text": [
      "Accuracy: 76.05%\n"
     ]
    }
   ],
   "source": [
    "accuracy = accuracy_score(y_test,predicted_r)\n",
    "print(\"Accuracy: %.2f%%\" % (accuracy * 100.0))"
   ]
  },
  {
   "cell_type": "markdown",
   "metadata": {},
   "source": [
    "Logistic Regression Accuracy =  75.84%"
   ]
  },
  {
   "cell_type": "code",
   "execution_count": 37,
   "metadata": {},
   "outputs": [
    {
     "name": "stdout",
     "output_type": "stream",
     "text": [
      "Accuracy: 74.94% (0.63%)\n"
     ]
    }
   ],
   "source": [
    "#fit model using KFold\n",
    "model = LogisticRegression(random_state = 42)\n",
    "kfold = KFold(n_splits=10)\n",
    "results = cross_val_score(model, X, y, cv=kfold)\n",
    "print(\"Accuracy: %.2f%% (%.2f%%)\" % (results.mean()*100, results.std()*100))"
   ]
  },
  {
   "cell_type": "markdown",
   "metadata": {},
   "source": [
    "Accuracy: 73.58% (0.48%)"
   ]
  },
  {
   "cell_type": "markdown",
   "metadata": {},
   "source": [
    "### Random Forest"
   ]
  },
  {
   "cell_type": "code",
   "execution_count": 38,
   "metadata": {},
   "outputs": [],
   "source": [
    "rf_class = RandomForestClassifier()\n",
    "model_rf = rf_class.fit(X_train, y_train)"
   ]
  },
  {
   "cell_type": "code",
   "execution_count": 39,
   "metadata": {},
   "outputs": [],
   "source": [
    "predicted_rf = model_rf.predict(X_test)"
   ]
  },
  {
   "cell_type": "code",
   "execution_count": 40,
   "metadata": {},
   "outputs": [
    {
     "name": "stdout",
     "output_type": "stream",
     "text": [
      "Accuracy: 84.14%\n"
     ]
    }
   ],
   "source": [
    "accuracy = accuracy_score(y_test,predicted_rf)\n",
    "print(\"Accuracy: %.2f%%\" % (accuracy * 100.0))"
   ]
  },
  {
   "cell_type": "markdown",
   "metadata": {},
   "source": [
    "Random Forest Accuracy (before tuning hyperparameters) = 85.52%"
   ]
  },
  {
   "cell_type": "markdown",
   "metadata": {},
   "source": [
    "Random Forest Accuracy (after hyperparameters tuning):"
   ]
  },
  {
   "cell_type": "code",
   "execution_count": 41,
   "metadata": {},
   "outputs": [
    {
     "name": "stdout",
     "output_type": "stream",
     "text": [
      "Accuracy: 86.03% (0.24%)\n"
     ]
    }
   ],
   "source": [
    "#fit model using KFold\n",
    "model = RandomForestClassifier(random_state = 42)\n",
    "kfold = KFold(n_splits=10)\n",
    "results = cross_val_score(model, X, y, cv=kfold)\n",
    "print(\"Accuracy: %.2f%% (%.2f%%)\" % (results.mean()*100, results.std()*100))"
   ]
  },
  {
   "cell_type": "markdown",
   "metadata": {},
   "source": [
    "### XGBoost Classifier"
   ]
  },
  {
   "cell_type": "code",
   "execution_count": 42,
   "metadata": {},
   "outputs": [],
   "source": [
    "# fit model on training data\n",
    "model = XGBClassifier(random_state = 42)\n",
    "model_xgb = model.fit(X_train, y_train)"
   ]
  },
  {
   "cell_type": "code",
   "execution_count": 43,
   "metadata": {},
   "outputs": [],
   "source": [
    "# make predictions for test data\n",
    "predictions = model.predict(X_test)"
   ]
  },
  {
   "cell_type": "code",
   "execution_count": 44,
   "metadata": {},
   "outputs": [
    {
     "name": "stdout",
     "output_type": "stream",
     "text": [
      "Accuracy: 80.32%\n"
     ]
    }
   ],
   "source": [
    "# evaluate predictions\n",
    "accuracy = accuracy_score(y_test, predictions)\n",
    "print(\"Accuracy: %.2f%%\" % (accuracy * 100.0))"
   ]
  },
  {
   "cell_type": "markdown",
   "metadata": {},
   "source": [
    "Accuracy (before hyperparameters tuning): 80.08%"
   ]
  },
  {
   "cell_type": "markdown",
   "metadata": {},
   "source": [
    "Accuracy (after hyperparameters tuning): 86.38% "
   ]
  },
  {
   "cell_type": "code",
   "execution_count": 45,
   "metadata": {},
   "outputs": [
    {
     "name": "stdout",
     "output_type": "stream",
     "text": [
      "Accuracy: 80.46% (0.44%)\n"
     ]
    }
   ],
   "source": [
    "#fit model using KFold\n",
    "model = XGBClassifier(random_state = 42)\n",
    "kfold = KFold(n_splits=10)\n",
    "results = cross_val_score(model, X, y, cv=kfold)\n",
    "print(\"Accuracy: %.2f%% (%.2f%%)\" % (results.mean()*100, results.std()*100))"
   ]
  },
  {
   "cell_type": "markdown",
   "metadata": {},
   "source": [
    "Accuracy (before hyperparameters tuning):80.40% (0.45%)"
   ]
  },
  {
   "cell_type": "markdown",
   "metadata": {},
   "source": [
    "Accuracy (after hyperparameters tuning): 88.49% (0.34%)"
   ]
  },
  {
   "cell_type": "markdown",
   "metadata": {},
   "source": [
    "### Feature Selection"
   ]
  },
  {
   "cell_type": "code",
   "execution_count": 46,
   "metadata": {},
   "outputs": [
    {
     "name": "stdout",
     "output_type": "stream",
     "text": [
      "Accuracy: 80.32%\n",
      "Thresh=0.000, n=94, Accuracy: 86.66%\n",
      "Thresh=0.000, n=94, Accuracy: 86.66%\n",
      "Thresh=0.000, n=94, Accuracy: 86.66%\n",
      "Thresh=0.000, n=94, Accuracy: 86.66%\n",
      "Thresh=0.000, n=94, Accuracy: 86.66%\n",
      "Thresh=0.000, n=94, Accuracy: 86.66%\n",
      "Thresh=0.000, n=94, Accuracy: 86.66%\n",
      "Thresh=0.000, n=94, Accuracy: 86.66%\n",
      "Thresh=0.000, n=94, Accuracy: 86.66%\n",
      "Thresh=0.001, n=85, Accuracy: 86.62%\n",
      "Thresh=0.002, n=84, Accuracy: 86.52%\n",
      "Thresh=0.002, n=83, Accuracy: 86.47%\n",
      "Thresh=0.003, n=82, Accuracy: 86.68%\n",
      "Thresh=0.004, n=81, Accuracy: 86.52%\n",
      "Thresh=0.004, n=80, Accuracy: 86.29%\n",
      "Thresh=0.005, n=79, Accuracy: 86.64%\n",
      "Thresh=0.005, n=78, Accuracy: 86.73%\n",
      "Thresh=0.005, n=77, Accuracy: 86.69%\n",
      "Thresh=0.006, n=76, Accuracy: 86.42%\n",
      "Thresh=0.006, n=75, Accuracy: 86.59%\n",
      "Thresh=0.006, n=74, Accuracy: 86.63%\n",
      "Thresh=0.006, n=73, Accuracy: 86.49%\n",
      "Thresh=0.006, n=72, Accuracy: 86.61%\n",
      "Thresh=0.006, n=71, Accuracy: 86.50%\n",
      "Thresh=0.006, n=70, Accuracy: 86.50%\n",
      "Thresh=0.006, n=69, Accuracy: 86.69%\n",
      "Thresh=0.006, n=68, Accuracy: 86.57%\n",
      "Thresh=0.007, n=67, Accuracy: 86.65%\n",
      "Thresh=0.007, n=66, Accuracy: 86.90%\n",
      "Thresh=0.007, n=65, Accuracy: 86.82%\n",
      "Thresh=0.007, n=64, Accuracy: 86.56%\n",
      "Thresh=0.007, n=63, Accuracy: 86.53%\n",
      "Thresh=0.007, n=62, Accuracy: 86.73%\n",
      "Thresh=0.007, n=61, Accuracy: 86.58%\n",
      "Thresh=0.007, n=60, Accuracy: 86.45%\n",
      "Thresh=0.007, n=59, Accuracy: 86.40%\n",
      "Thresh=0.007, n=58, Accuracy: 86.70%\n",
      "Thresh=0.007, n=57, Accuracy: 86.57%\n",
      "Thresh=0.007, n=56, Accuracy: 86.40%\n",
      "Thresh=0.007, n=55, Accuracy: 86.47%\n",
      "Thresh=0.007, n=54, Accuracy: 86.53%\n",
      "Thresh=0.007, n=53, Accuracy: 86.39%\n",
      "Thresh=0.008, n=52, Accuracy: 86.47%\n",
      "Thresh=0.008, n=51, Accuracy: 86.24%\n",
      "Thresh=0.008, n=50, Accuracy: 86.26%\n",
      "Thresh=0.008, n=49, Accuracy: 85.92%\n",
      "Thresh=0.008, n=48, Accuracy: 85.84%\n",
      "Thresh=0.008, n=47, Accuracy: 85.75%\n",
      "Thresh=0.008, n=46, Accuracy: 85.64%\n",
      "Thresh=0.008, n=45, Accuracy: 85.79%\n",
      "Thresh=0.008, n=44, Accuracy: 85.73%\n",
      "Thresh=0.008, n=43, Accuracy: 84.54%\n",
      "Thresh=0.008, n=42, Accuracy: 84.32%\n",
      "Thresh=0.008, n=41, Accuracy: 84.54%\n",
      "Thresh=0.008, n=40, Accuracy: 84.19%\n",
      "Thresh=0.008, n=39, Accuracy: 84.36%\n",
      "Thresh=0.008, n=38, Accuracy: 84.31%\n",
      "Thresh=0.008, n=37, Accuracy: 84.38%\n",
      "Thresh=0.008, n=36, Accuracy: 84.39%\n",
      "Thresh=0.008, n=35, Accuracy: 83.94%\n",
      "Thresh=0.008, n=34, Accuracy: 83.81%\n",
      "Thresh=0.008, n=33, Accuracy: 83.79%\n",
      "Thresh=0.008, n=32, Accuracy: 83.63%\n",
      "Thresh=0.009, n=31, Accuracy: 83.67%\n",
      "Thresh=0.009, n=30, Accuracy: 83.44%\n",
      "Thresh=0.009, n=29, Accuracy: 83.18%\n",
      "Thresh=0.009, n=28, Accuracy: 83.22%\n",
      "Thresh=0.009, n=27, Accuracy: 83.15%\n",
      "Thresh=0.009, n=26, Accuracy: 83.01%\n",
      "Thresh=0.009, n=25, Accuracy: 83.09%\n",
      "Thresh=0.009, n=24, Accuracy: 82.65%\n",
      "Thresh=0.010, n=23, Accuracy: 82.88%\n",
      "Thresh=0.010, n=22, Accuracy: 83.10%\n",
      "Thresh=0.010, n=21, Accuracy: 82.73%\n",
      "Thresh=0.010, n=20, Accuracy: 82.98%\n",
      "Thresh=0.010, n=19, Accuracy: 82.46%\n",
      "Thresh=0.011, n=18, Accuracy: 82.69%\n",
      "Thresh=0.011, n=17, Accuracy: 81.21%\n",
      "Thresh=0.011, n=16, Accuracy: 81.19%\n",
      "Thresh=0.011, n=15, Accuracy: 81.44%\n",
      "Thresh=0.011, n=14, Accuracy: 80.99%\n",
      "Thresh=0.011, n=13, Accuracy: 80.63%\n",
      "Thresh=0.013, n=12, Accuracy: 80.16%\n",
      "Thresh=0.013, n=11, Accuracy: 80.30%\n",
      "Thresh=0.014, n=10, Accuracy: 77.50%\n",
      "Thresh=0.014, n=9, Accuracy: 76.99%\n",
      "Thresh=0.014, n=8, Accuracy: 76.02%\n",
      "Thresh=0.015, n=7, Accuracy: 75.94%\n",
      "Thresh=0.020, n=6, Accuracy: 77.95%\n",
      "Thresh=0.023, n=5, Accuracy: 77.27%\n",
      "Thresh=0.028, n=4, Accuracy: 76.25%\n",
      "Thresh=0.043, n=3, Accuracy: 74.35%\n",
      "Thresh=0.116, n=2, Accuracy: 74.32%\n",
      "Thresh=0.138, n=1, Accuracy: 65.45%\n"
     ]
    }
   ],
   "source": [
    "#Feature selection \n",
    "\n",
    "model = XGBClassifier(nthread=-1, random_state = 42)\n",
    "model.fit(X_train, y_train)\n",
    "# make predictions for test data and evaluate\n",
    "predictions = model.predict(X_test)\n",
    "accuracy = accuracy_score(y_test, predictions)\n",
    "print(\"Accuracy: %.2f%%\" % (accuracy * 100.0))\n",
    "# Fit model using each importance as a threshold\n",
    "thresholds = sort(model.feature_importances_)\n",
    "for thresh in thresholds:\n",
    "\t# select features using threshold\n",
    "\tselection = SelectFromModel(model, threshold=thresh, prefit=True)\n",
    "\tselect_X_train = selection.transform(X_train)\n",
    "\t# train model\n",
    "\tselection_model = XGBClassifier(nthread=-1, max_depth= 11, n_estimators= 650, random_state = 42)\n",
    "\tselection_model.fit(select_X_train, y_train)\n",
    "\t# eval model\n",
    "\tselect_X_test = selection.transform(X_test)\n",
    "\tpredictions = selection_model.predict(select_X_test)\n",
    "\taccuracy = accuracy_score(y_test, predictions)\n",
    "\tprint(\"Thresh=%.3f, n=%d, Accuracy: %.2f%%\" % (thresh, select_X_train.shape[1], accuracy*100.0))"
   ]
  },
  {
   "cell_type": "markdown",
   "metadata": {},
   "source": [
    "Thresh=0.000, n=87, Accuracy: 86.42%\n"
   ]
  },
  {
   "cell_type": "markdown",
   "metadata": {},
   "source": [
    "<h1><center>  <font color='blue'> Data Modeling - Classification Model with PCA </font></center></h1> \n"
   ]
  },
  {
   "cell_type": "markdown",
   "metadata": {
    "colab_type": "text",
    "id": "LibFkmbUoA0E"
   },
   "source": [
    "---"
   ]
  },
  {
   "cell_type": "markdown",
   "metadata": {},
   "source": [
    "### Feature Selection with PCA"
   ]
  },
  {
   "cell_type": "code",
   "execution_count": 47,
   "metadata": {},
   "outputs": [
    {
     "data": {
      "text/html": [
       "<div>\n",
       "<style scoped>\n",
       "    .dataframe tbody tr th:only-of-type {\n",
       "        vertical-align: middle;\n",
       "    }\n",
       "\n",
       "    .dataframe tbody tr th {\n",
       "        vertical-align: top;\n",
       "    }\n",
       "\n",
       "    .dataframe thead th {\n",
       "        text-align: right;\n",
       "    }\n",
       "</style>\n",
       "<table border=\"1\" class=\"dataframe\">\n",
       "  <thead>\n",
       "    <tr style=\"text-align: right;\">\n",
       "      <th></th>\n",
       "      <th>time_left</th>\n",
       "      <th>ct_score</th>\n",
       "      <th>t_score</th>\n",
       "      <th>bomb_planted</th>\n",
       "      <th>ct_health</th>\n",
       "      <th>t_health</th>\n",
       "      <th>ct_armor</th>\n",
       "      <th>t_armor</th>\n",
       "      <th>ct_money</th>\n",
       "      <th>t_money</th>\n",
       "      <th>...</th>\n",
       "      <th>ct_grenade_decoygrenade</th>\n",
       "      <th>t_grenade_decoygrenade</th>\n",
       "      <th>map0</th>\n",
       "      <th>map1</th>\n",
       "      <th>map2</th>\n",
       "      <th>map3</th>\n",
       "      <th>map4</th>\n",
       "      <th>map5</th>\n",
       "      <th>map6</th>\n",
       "      <th>map7</th>\n",
       "    </tr>\n",
       "  </thead>\n",
       "  <tbody>\n",
       "    <tr>\n",
       "      <th>0</th>\n",
       "      <td>-1.522878</td>\n",
       "      <td>1.703832</td>\n",
       "      <td>-0.383852</td>\n",
       "      <td>2.731658</td>\n",
       "      <td>-0.997320</td>\n",
       "      <td>-1.279807</td>\n",
       "      <td>-0.134276</td>\n",
       "      <td>0.455194</td>\n",
       "      <td>-0.843096</td>\n",
       "      <td>-0.805823</td>\n",
       "      <td>...</td>\n",
       "      <td>-0.164133</td>\n",
       "      <td>-0.154347</td>\n",
       "      <td>-0.034836</td>\n",
       "      <td>-0.46994</td>\n",
       "      <td>2.028724</td>\n",
       "      <td>-0.423743</td>\n",
       "      <td>-0.424271</td>\n",
       "      <td>-0.359113</td>\n",
       "      <td>-0.353470</td>\n",
       "      <td>-0.318980</td>\n",
       "    </tr>\n",
       "    <tr>\n",
       "      <th>1</th>\n",
       "      <td>-1.490061</td>\n",
       "      <td>-1.411533</td>\n",
       "      <td>-1.210584</td>\n",
       "      <td>-0.366078</td>\n",
       "      <td>-1.704113</td>\n",
       "      <td>-2.391526</td>\n",
       "      <td>-0.828023</td>\n",
       "      <td>-1.183969</td>\n",
       "      <td>-0.763559</td>\n",
       "      <td>-0.895169</td>\n",
       "      <td>...</td>\n",
       "      <td>-0.164133</td>\n",
       "      <td>-0.154347</td>\n",
       "      <td>-0.034836</td>\n",
       "      <td>-0.46994</td>\n",
       "      <td>-0.492921</td>\n",
       "      <td>-0.423743</td>\n",
       "      <td>-0.424271</td>\n",
       "      <td>-0.359113</td>\n",
       "      <td>2.829096</td>\n",
       "      <td>-0.318980</td>\n",
       "    </tr>\n",
       "    <tr>\n",
       "      <th>2</th>\n",
       "      <td>0.029933</td>\n",
       "      <td>0.249995</td>\n",
       "      <td>1.062930</td>\n",
       "      <td>-0.366078</td>\n",
       "      <td>-0.052449</td>\n",
       "      <td>0.021890</td>\n",
       "      <td>0.289028</td>\n",
       "      <td>0.547217</td>\n",
       "      <td>0.049487</td>\n",
       "      <td>-0.777394</td>\n",
       "      <td>...</td>\n",
       "      <td>-0.164133</td>\n",
       "      <td>-0.154347</td>\n",
       "      <td>-0.034836</td>\n",
       "      <td>-0.46994</td>\n",
       "      <td>-0.492921</td>\n",
       "      <td>2.359920</td>\n",
       "      <td>-0.424271</td>\n",
       "      <td>-0.359113</td>\n",
       "      <td>-0.353470</td>\n",
       "      <td>-0.318980</td>\n",
       "    </tr>\n",
       "    <tr>\n",
       "      <th>3</th>\n",
       "      <td>-1.487974</td>\n",
       "      <td>-0.373078</td>\n",
       "      <td>1.682979</td>\n",
       "      <td>-0.366078</td>\n",
       "      <td>-0.796442</td>\n",
       "      <td>-2.088970</td>\n",
       "      <td>-0.110759</td>\n",
       "      <td>-1.172466</td>\n",
       "      <td>-0.798908</td>\n",
       "      <td>-0.822067</td>\n",
       "      <td>...</td>\n",
       "      <td>-0.164133</td>\n",
       "      <td>-0.154347</td>\n",
       "      <td>-0.034836</td>\n",
       "      <td>-0.46994</td>\n",
       "      <td>2.028724</td>\n",
       "      <td>-0.423743</td>\n",
       "      <td>-0.424271</td>\n",
       "      <td>-0.359113</td>\n",
       "      <td>-0.353470</td>\n",
       "      <td>-0.318980</td>\n",
       "    </tr>\n",
       "    <tr>\n",
       "      <th>4</th>\n",
       "      <td>0.409126</td>\n",
       "      <td>0.665377</td>\n",
       "      <td>1.476296</td>\n",
       "      <td>-0.366078</td>\n",
       "      <td>0.691543</td>\n",
       "      <td>0.725510</td>\n",
       "      <td>0.477162</td>\n",
       "      <td>0.978576</td>\n",
       "      <td>-0.865189</td>\n",
       "      <td>0.798344</td>\n",
       "      <td>...</td>\n",
       "      <td>-0.164133</td>\n",
       "      <td>-0.154347</td>\n",
       "      <td>-0.034836</td>\n",
       "      <td>-0.46994</td>\n",
       "      <td>-0.492921</td>\n",
       "      <td>-0.423743</td>\n",
       "      <td>2.356984</td>\n",
       "      <td>-0.359113</td>\n",
       "      <td>-0.353470</td>\n",
       "      <td>-0.318980</td>\n",
       "    </tr>\n",
       "    <tr>\n",
       "      <th>...</th>\n",
       "      <td>...</td>\n",
       "      <td>...</td>\n",
       "      <td>...</td>\n",
       "      <td>...</td>\n",
       "      <td>...</td>\n",
       "      <td>...</td>\n",
       "      <td>...</td>\n",
       "      <td>...</td>\n",
       "      <td>...</td>\n",
       "      <td>...</td>\n",
       "      <td>...</td>\n",
       "      <td>...</td>\n",
       "      <td>...</td>\n",
       "      <td>...</td>\n",
       "      <td>...</td>\n",
       "      <td>...</td>\n",
       "      <td>...</td>\n",
       "      <td>...</td>\n",
       "      <td>...</td>\n",
       "      <td>...</td>\n",
       "      <td>...</td>\n",
       "    </tr>\n",
       "    <tr>\n",
       "      <th>80849</th>\n",
       "      <td>-0.729779</td>\n",
       "      <td>-0.580769</td>\n",
       "      <td>-0.383852</td>\n",
       "      <td>-0.366078</td>\n",
       "      <td>-0.498845</td>\n",
       "      <td>-2.236730</td>\n",
       "      <td>0.430129</td>\n",
       "      <td>-1.201224</td>\n",
       "      <td>-0.591228</td>\n",
       "      <td>-0.789578</td>\n",
       "      <td>...</td>\n",
       "      <td>-0.164133</td>\n",
       "      <td>-0.154347</td>\n",
       "      <td>-0.034836</td>\n",
       "      <td>-0.46994</td>\n",
       "      <td>-0.492921</td>\n",
       "      <td>-0.423743</td>\n",
       "      <td>-0.424271</td>\n",
       "      <td>2.784640</td>\n",
       "      <td>-0.353470</td>\n",
       "      <td>-0.318980</td>\n",
       "    </tr>\n",
       "    <tr>\n",
       "      <th>80850</th>\n",
       "      <td>-1.458383</td>\n",
       "      <td>-1.411533</td>\n",
       "      <td>-1.417267</td>\n",
       "      <td>-0.366078</td>\n",
       "      <td>-1.034519</td>\n",
       "      <td>-2.539286</td>\n",
       "      <td>-0.163672</td>\n",
       "      <td>-1.747611</td>\n",
       "      <td>-0.772396</td>\n",
       "      <td>-0.895169</td>\n",
       "      <td>...</td>\n",
       "      <td>-0.164133</td>\n",
       "      <td>-0.154347</td>\n",
       "      <td>-0.034836</td>\n",
       "      <td>-0.46994</td>\n",
       "      <td>-0.492921</td>\n",
       "      <td>-0.423743</td>\n",
       "      <td>-0.424271</td>\n",
       "      <td>-0.359113</td>\n",
       "      <td>-0.353470</td>\n",
       "      <td>3.134992</td>\n",
       "    </tr>\n",
       "    <tr>\n",
       "      <th>80851</th>\n",
       "      <td>-0.349828</td>\n",
       "      <td>0.457686</td>\n",
       "      <td>0.442881</td>\n",
       "      <td>-0.366078</td>\n",
       "      <td>0.535305</td>\n",
       "      <td>-2.088970</td>\n",
       "      <td>0.912224</td>\n",
       "      <td>-1.747611</td>\n",
       "      <td>-0.542622</td>\n",
       "      <td>-0.891107</td>\n",
       "      <td>...</td>\n",
       "      <td>-0.164133</td>\n",
       "      <td>-0.154347</td>\n",
       "      <td>-0.034836</td>\n",
       "      <td>-0.46994</td>\n",
       "      <td>-0.492921</td>\n",
       "      <td>-0.423743</td>\n",
       "      <td>2.356984</td>\n",
       "      <td>-0.359113</td>\n",
       "      <td>-0.353470</td>\n",
       "      <td>-0.318980</td>\n",
       "    </tr>\n",
       "    <tr>\n",
       "      <th>80852</th>\n",
       "      <td>1.452427</td>\n",
       "      <td>-1.411533</td>\n",
       "      <td>0.649564</td>\n",
       "      <td>-0.366078</td>\n",
       "      <td>0.691543</td>\n",
       "      <td>0.725510</td>\n",
       "      <td>-0.110759</td>\n",
       "      <td>-0.010674</td>\n",
       "      <td>1.719767</td>\n",
       "      <td>4.814852</td>\n",
       "      <td>...</td>\n",
       "      <td>-0.164133</td>\n",
       "      <td>-0.154347</td>\n",
       "      <td>-0.034836</td>\n",
       "      <td>-0.46994</td>\n",
       "      <td>2.028724</td>\n",
       "      <td>-0.423743</td>\n",
       "      <td>-0.424271</td>\n",
       "      <td>-0.359113</td>\n",
       "      <td>-0.353470</td>\n",
       "      <td>-0.318980</td>\n",
       "    </tr>\n",
       "    <tr>\n",
       "      <th>80853</th>\n",
       "      <td>-0.349828</td>\n",
       "      <td>-0.996151</td>\n",
       "      <td>-1.417267</td>\n",
       "      <td>-0.366078</td>\n",
       "      <td>-1.540434</td>\n",
       "      <td>-2.088970</td>\n",
       "      <td>-0.722197</td>\n",
       "      <td>-1.172466</td>\n",
       "      <td>-0.776815</td>\n",
       "      <td>-0.943903</td>\n",
       "      <td>...</td>\n",
       "      <td>-0.164133</td>\n",
       "      <td>-0.154347</td>\n",
       "      <td>-0.034836</td>\n",
       "      <td>-0.46994</td>\n",
       "      <td>-0.492921</td>\n",
       "      <td>-0.423743</td>\n",
       "      <td>-0.424271</td>\n",
       "      <td>-0.359113</td>\n",
       "      <td>-0.353470</td>\n",
       "      <td>3.134992</td>\n",
       "    </tr>\n",
       "  </tbody>\n",
       "</table>\n",
       "<p>80854 rows × 94 columns</p>\n",
       "</div>"
      ],
      "text/plain": [
       "       time_left  ct_score   t_score  bomb_planted  ct_health  t_health  \\\n",
       "0      -1.522878  1.703832 -0.383852      2.731658  -0.997320 -1.279807   \n",
       "1      -1.490061 -1.411533 -1.210584     -0.366078  -1.704113 -2.391526   \n",
       "2       0.029933  0.249995  1.062930     -0.366078  -0.052449  0.021890   \n",
       "3      -1.487974 -0.373078  1.682979     -0.366078  -0.796442 -2.088970   \n",
       "4       0.409126  0.665377  1.476296     -0.366078   0.691543  0.725510   \n",
       "...          ...       ...       ...           ...        ...       ...   \n",
       "80849  -0.729779 -0.580769 -0.383852     -0.366078  -0.498845 -2.236730   \n",
       "80850  -1.458383 -1.411533 -1.417267     -0.366078  -1.034519 -2.539286   \n",
       "80851  -0.349828  0.457686  0.442881     -0.366078   0.535305 -2.088970   \n",
       "80852   1.452427 -1.411533  0.649564     -0.366078   0.691543  0.725510   \n",
       "80853  -0.349828 -0.996151 -1.417267     -0.366078  -1.540434 -2.088970   \n",
       "\n",
       "       ct_armor   t_armor  ct_money   t_money  ...  ct_grenade_decoygrenade  \\\n",
       "0     -0.134276  0.455194 -0.843096 -0.805823  ...                -0.164133   \n",
       "1     -0.828023 -1.183969 -0.763559 -0.895169  ...                -0.164133   \n",
       "2      0.289028  0.547217  0.049487 -0.777394  ...                -0.164133   \n",
       "3     -0.110759 -1.172466 -0.798908 -0.822067  ...                -0.164133   \n",
       "4      0.477162  0.978576 -0.865189  0.798344  ...                -0.164133   \n",
       "...         ...       ...       ...       ...  ...                      ...   \n",
       "80849  0.430129 -1.201224 -0.591228 -0.789578  ...                -0.164133   \n",
       "80850 -0.163672 -1.747611 -0.772396 -0.895169  ...                -0.164133   \n",
       "80851  0.912224 -1.747611 -0.542622 -0.891107  ...                -0.164133   \n",
       "80852 -0.110759 -0.010674  1.719767  4.814852  ...                -0.164133   \n",
       "80853 -0.722197 -1.172466 -0.776815 -0.943903  ...                -0.164133   \n",
       "\n",
       "       t_grenade_decoygrenade      map0     map1      map2      map3  \\\n",
       "0                   -0.154347 -0.034836 -0.46994  2.028724 -0.423743   \n",
       "1                   -0.154347 -0.034836 -0.46994 -0.492921 -0.423743   \n",
       "2                   -0.154347 -0.034836 -0.46994 -0.492921  2.359920   \n",
       "3                   -0.154347 -0.034836 -0.46994  2.028724 -0.423743   \n",
       "4                   -0.154347 -0.034836 -0.46994 -0.492921 -0.423743   \n",
       "...                       ...       ...      ...       ...       ...   \n",
       "80849               -0.154347 -0.034836 -0.46994 -0.492921 -0.423743   \n",
       "80850               -0.154347 -0.034836 -0.46994 -0.492921 -0.423743   \n",
       "80851               -0.154347 -0.034836 -0.46994 -0.492921 -0.423743   \n",
       "80852               -0.154347 -0.034836 -0.46994  2.028724 -0.423743   \n",
       "80853               -0.154347 -0.034836 -0.46994 -0.492921 -0.423743   \n",
       "\n",
       "           map4      map5      map6      map7  \n",
       "0     -0.424271 -0.359113 -0.353470 -0.318980  \n",
       "1     -0.424271 -0.359113  2.829096 -0.318980  \n",
       "2     -0.424271 -0.359113 -0.353470 -0.318980  \n",
       "3     -0.424271 -0.359113 -0.353470 -0.318980  \n",
       "4      2.356984 -0.359113 -0.353470 -0.318980  \n",
       "...         ...       ...       ...       ...  \n",
       "80849 -0.424271  2.784640 -0.353470 -0.318980  \n",
       "80850 -0.424271 -0.359113 -0.353470  3.134992  \n",
       "80851  2.356984 -0.359113 -0.353470 -0.318980  \n",
       "80852 -0.424271 -0.359113 -0.353470 -0.318980  \n",
       "80853 -0.424271 -0.359113 -0.353470  3.134992  \n",
       "\n",
       "[80854 rows x 94 columns]"
      ]
     },
     "execution_count": 47,
     "metadata": {},
     "output_type": "execute_result"
    }
   ],
   "source": [
    "scaled_features"
   ]
  },
  {
   "cell_type": "code",
   "execution_count": 48,
   "metadata": {},
   "outputs": [
    {
     "data": {
      "text/plain": [
       "Index(['time_left', 'bomb_planted', 'map0', 'map1', 'map2', 'map3', 'map4',\n",
       "       'map5', 'map6', 'map7'],\n",
       "      dtype='object')"
      ]
     },
     "execution_count": 48,
     "metadata": {},
     "output_type": "execute_result"
    }
   ],
   "source": [
    "# Split data between ct_, t_ and other features\n",
    "team = scaled_features[[col for col in scaled_features.columns if 'ct_' and 't_' in col]]\n",
    "team.columns\n",
    "\n",
    "team_ct = scaled_features[[col for col in scaled_features.columns if 'ct_' in col]]\n",
    "team_ct.columns\n",
    "\n",
    "team_t = team[[col for col in team.columns if 'ct_' not in col]]\n",
    "team_t.columns\n",
    "\n",
    "\n",
    "others = scaled_features[[col for col in scaled_features.columns if 'ct_' and 't_' not in col]]\n",
    "others.columns\n",
    "\n"
   ]
  },
  {
   "cell_type": "markdown",
   "metadata": {},
   "source": [
    "##PCA for CT and T"
   ]
  },
  {
   "cell_type": "code",
   "execution_count": 49,
   "metadata": {},
   "outputs": [],
   "source": [
    "from sklearn.decomposition import PCA\n",
    "\n",
    "pca_ct = PCA(n_components=2)\n",
    "\n",
    "pca_t = PCA(n_components=2)\n",
    "\n",
    "principalComponents = pca_ct.fit_transform(team_ct)\n",
    "\n",
    "principal_ct = pd.DataFrame(data = principalComponents\n",
    "             , columns = ['principal component 1', 'principal component 2'])\n",
    "\n",
    "principalComponents = pca_t.fit_transform(team_t)\n",
    "\n",
    "principal_t = pd.DataFrame(data = principalComponents\n",
    "             , columns = ['principal component 3', 'principal component 4'])"
   ]
  },
  {
   "cell_type": "code",
   "execution_count": 50,
   "metadata": {},
   "outputs": [
    {
     "data": {
      "text/html": [
       "<div>\n",
       "<style scoped>\n",
       "    .dataframe tbody tr th:only-of-type {\n",
       "        vertical-align: middle;\n",
       "    }\n",
       "\n",
       "    .dataframe tbody tr th {\n",
       "        vertical-align: top;\n",
       "    }\n",
       "\n",
       "    .dataframe thead th {\n",
       "        text-align: right;\n",
       "    }\n",
       "</style>\n",
       "<table border=\"1\" class=\"dataframe\">\n",
       "  <thead>\n",
       "    <tr style=\"text-align: right;\">\n",
       "      <th></th>\n",
       "      <th>time_left</th>\n",
       "      <th>bomb_planted</th>\n",
       "      <th>map0</th>\n",
       "      <th>map1</th>\n",
       "      <th>map2</th>\n",
       "      <th>map3</th>\n",
       "      <th>map4</th>\n",
       "      <th>map5</th>\n",
       "      <th>map6</th>\n",
       "      <th>map7</th>\n",
       "      <th>principal component 1</th>\n",
       "      <th>principal component 2</th>\n",
       "      <th>principal component 3</th>\n",
       "      <th>principal component 4</th>\n",
       "    </tr>\n",
       "  </thead>\n",
       "  <tbody>\n",
       "    <tr>\n",
       "      <th>0</th>\n",
       "      <td>-1.522878</td>\n",
       "      <td>2.731658</td>\n",
       "      <td>-0.034836</td>\n",
       "      <td>-0.46994</td>\n",
       "      <td>2.028724</td>\n",
       "      <td>-0.423743</td>\n",
       "      <td>-0.424271</td>\n",
       "      <td>-0.359113</td>\n",
       "      <td>-0.353470</td>\n",
       "      <td>-0.318980</td>\n",
       "      <td>-0.910170</td>\n",
       "      <td>1.207910</td>\n",
       "      <td>-1.382651</td>\n",
       "      <td>-0.014271</td>\n",
       "    </tr>\n",
       "    <tr>\n",
       "      <th>1</th>\n",
       "      <td>-1.490061</td>\n",
       "      <td>-0.366078</td>\n",
       "      <td>-0.034836</td>\n",
       "      <td>-0.46994</td>\n",
       "      <td>-0.492921</td>\n",
       "      <td>-0.423743</td>\n",
       "      <td>-0.424271</td>\n",
       "      <td>-0.359113</td>\n",
       "      <td>2.829096</td>\n",
       "      <td>-0.318980</td>\n",
       "      <td>-3.246451</td>\n",
       "      <td>-0.166328</td>\n",
       "      <td>-2.708574</td>\n",
       "      <td>1.432175</td>\n",
       "    </tr>\n",
       "    <tr>\n",
       "      <th>2</th>\n",
       "      <td>0.029933</td>\n",
       "      <td>-0.366078</td>\n",
       "      <td>-0.034836</td>\n",
       "      <td>-0.46994</td>\n",
       "      <td>-0.492921</td>\n",
       "      <td>2.359920</td>\n",
       "      <td>-0.424271</td>\n",
       "      <td>-0.359113</td>\n",
       "      <td>-0.353470</td>\n",
       "      <td>-0.318980</td>\n",
       "      <td>1.406510</td>\n",
       "      <td>0.957502</td>\n",
       "      <td>0.283032</td>\n",
       "      <td>-0.604206</td>\n",
       "    </tr>\n",
       "    <tr>\n",
       "      <th>3</th>\n",
       "      <td>-1.487974</td>\n",
       "      <td>-0.366078</td>\n",
       "      <td>-0.034836</td>\n",
       "      <td>-0.46994</td>\n",
       "      <td>2.028724</td>\n",
       "      <td>-0.423743</td>\n",
       "      <td>-0.424271</td>\n",
       "      <td>-0.359113</td>\n",
       "      <td>-0.353470</td>\n",
       "      <td>-0.318980</td>\n",
       "      <td>-2.081147</td>\n",
       "      <td>-0.903938</td>\n",
       "      <td>-2.617179</td>\n",
       "      <td>-0.098213</td>\n",
       "    </tr>\n",
       "    <tr>\n",
       "      <th>4</th>\n",
       "      <td>0.409126</td>\n",
       "      <td>-0.366078</td>\n",
       "      <td>-0.034836</td>\n",
       "      <td>-0.46994</td>\n",
       "      <td>-0.492921</td>\n",
       "      <td>-0.423743</td>\n",
       "      <td>2.356984</td>\n",
       "      <td>-0.359113</td>\n",
       "      <td>-0.353470</td>\n",
       "      <td>-0.318980</td>\n",
       "      <td>1.201399</td>\n",
       "      <td>-2.001127</td>\n",
       "      <td>3.416072</td>\n",
       "      <td>-0.743083</td>\n",
       "    </tr>\n",
       "    <tr>\n",
       "      <th>...</th>\n",
       "      <td>...</td>\n",
       "      <td>...</td>\n",
       "      <td>...</td>\n",
       "      <td>...</td>\n",
       "      <td>...</td>\n",
       "      <td>...</td>\n",
       "      <td>...</td>\n",
       "      <td>...</td>\n",
       "      <td>...</td>\n",
       "      <td>...</td>\n",
       "      <td>...</td>\n",
       "      <td>...</td>\n",
       "      <td>...</td>\n",
       "      <td>...</td>\n",
       "    </tr>\n",
       "    <tr>\n",
       "      <th>80849</th>\n",
       "      <td>-0.729779</td>\n",
       "      <td>-0.366078</td>\n",
       "      <td>-0.034836</td>\n",
       "      <td>-0.46994</td>\n",
       "      <td>-0.492921</td>\n",
       "      <td>-0.423743</td>\n",
       "      <td>-0.424271</td>\n",
       "      <td>2.784640</td>\n",
       "      <td>-0.353470</td>\n",
       "      <td>-0.318980</td>\n",
       "      <td>0.456861</td>\n",
       "      <td>0.109508</td>\n",
       "      <td>-2.831077</td>\n",
       "      <td>0.323749</td>\n",
       "    </tr>\n",
       "    <tr>\n",
       "      <th>80850</th>\n",
       "      <td>-1.458383</td>\n",
       "      <td>-0.366078</td>\n",
       "      <td>-0.034836</td>\n",
       "      <td>-0.46994</td>\n",
       "      <td>-0.492921</td>\n",
       "      <td>-0.423743</td>\n",
       "      <td>-0.424271</td>\n",
       "      <td>-0.359113</td>\n",
       "      <td>-0.353470</td>\n",
       "      <td>3.134992</td>\n",
       "      <td>-3.003154</td>\n",
       "      <td>-0.672835</td>\n",
       "      <td>-3.623053</td>\n",
       "      <td>0.470928</td>\n",
       "    </tr>\n",
       "    <tr>\n",
       "      <th>80851</th>\n",
       "      <td>-0.349828</td>\n",
       "      <td>-0.366078</td>\n",
       "      <td>-0.034836</td>\n",
       "      <td>-0.46994</td>\n",
       "      <td>-0.492921</td>\n",
       "      <td>-0.423743</td>\n",
       "      <td>2.356984</td>\n",
       "      <td>-0.359113</td>\n",
       "      <td>-0.353470</td>\n",
       "      <td>-0.318980</td>\n",
       "      <td>1.589925</td>\n",
       "      <td>-0.750521</td>\n",
       "      <td>-3.375966</td>\n",
       "      <td>0.082729</td>\n",
       "    </tr>\n",
       "    <tr>\n",
       "      <th>80852</th>\n",
       "      <td>1.452427</td>\n",
       "      <td>-0.366078</td>\n",
       "      <td>-0.034836</td>\n",
       "      <td>-0.46994</td>\n",
       "      <td>2.028724</td>\n",
       "      <td>-0.423743</td>\n",
       "      <td>-0.424271</td>\n",
       "      <td>-0.359113</td>\n",
       "      <td>-0.353470</td>\n",
       "      <td>-0.318980</td>\n",
       "      <td>-2.264920</td>\n",
       "      <td>1.602945</td>\n",
       "      <td>0.180606</td>\n",
       "      <td>-1.279415</td>\n",
       "    </tr>\n",
       "    <tr>\n",
       "      <th>80853</th>\n",
       "      <td>-0.349828</td>\n",
       "      <td>-0.366078</td>\n",
       "      <td>-0.034836</td>\n",
       "      <td>-0.46994</td>\n",
       "      <td>-0.492921</td>\n",
       "      <td>-0.423743</td>\n",
       "      <td>-0.424271</td>\n",
       "      <td>-0.359113</td>\n",
       "      <td>-0.353470</td>\n",
       "      <td>3.134992</td>\n",
       "      <td>-1.721585</td>\n",
       "      <td>-0.267134</td>\n",
       "      <td>-2.316964</td>\n",
       "      <td>0.561233</td>\n",
       "    </tr>\n",
       "  </tbody>\n",
       "</table>\n",
       "<p>80854 rows × 14 columns</p>\n",
       "</div>"
      ],
      "text/plain": [
       "       time_left  bomb_planted      map0     map1      map2      map3  \\\n",
       "0      -1.522878      2.731658 -0.034836 -0.46994  2.028724 -0.423743   \n",
       "1      -1.490061     -0.366078 -0.034836 -0.46994 -0.492921 -0.423743   \n",
       "2       0.029933     -0.366078 -0.034836 -0.46994 -0.492921  2.359920   \n",
       "3      -1.487974     -0.366078 -0.034836 -0.46994  2.028724 -0.423743   \n",
       "4       0.409126     -0.366078 -0.034836 -0.46994 -0.492921 -0.423743   \n",
       "...          ...           ...       ...      ...       ...       ...   \n",
       "80849  -0.729779     -0.366078 -0.034836 -0.46994 -0.492921 -0.423743   \n",
       "80850  -1.458383     -0.366078 -0.034836 -0.46994 -0.492921 -0.423743   \n",
       "80851  -0.349828     -0.366078 -0.034836 -0.46994 -0.492921 -0.423743   \n",
       "80852   1.452427     -0.366078 -0.034836 -0.46994  2.028724 -0.423743   \n",
       "80853  -0.349828     -0.366078 -0.034836 -0.46994 -0.492921 -0.423743   \n",
       "\n",
       "           map4      map5      map6      map7  principal component 1  \\\n",
       "0     -0.424271 -0.359113 -0.353470 -0.318980              -0.910170   \n",
       "1     -0.424271 -0.359113  2.829096 -0.318980              -3.246451   \n",
       "2     -0.424271 -0.359113 -0.353470 -0.318980               1.406510   \n",
       "3     -0.424271 -0.359113 -0.353470 -0.318980              -2.081147   \n",
       "4      2.356984 -0.359113 -0.353470 -0.318980               1.201399   \n",
       "...         ...       ...       ...       ...                    ...   \n",
       "80849 -0.424271  2.784640 -0.353470 -0.318980               0.456861   \n",
       "80850 -0.424271 -0.359113 -0.353470  3.134992              -3.003154   \n",
       "80851  2.356984 -0.359113 -0.353470 -0.318980               1.589925   \n",
       "80852 -0.424271 -0.359113 -0.353470 -0.318980              -2.264920   \n",
       "80853 -0.424271 -0.359113 -0.353470  3.134992              -1.721585   \n",
       "\n",
       "       principal component 2  principal component 3  principal component 4  \n",
       "0                   1.207910              -1.382651              -0.014271  \n",
       "1                  -0.166328              -2.708574               1.432175  \n",
       "2                   0.957502               0.283032              -0.604206  \n",
       "3                  -0.903938              -2.617179              -0.098213  \n",
       "4                  -2.001127               3.416072              -0.743083  \n",
       "...                      ...                    ...                    ...  \n",
       "80849               0.109508              -2.831077               0.323749  \n",
       "80850              -0.672835              -3.623053               0.470928  \n",
       "80851              -0.750521              -3.375966               0.082729  \n",
       "80852               1.602945               0.180606              -1.279415  \n",
       "80853              -0.267134              -2.316964               0.561233  \n",
       "\n",
       "[80854 rows x 14 columns]"
      ]
     },
     "execution_count": 50,
     "metadata": {},
     "output_type": "execute_result"
    }
   ],
   "source": [
    "df_pca = pd.concat([others, principal_ct, principal_t], axis = 1)\n",
    "df_pca"
   ]
  },
  {
   "cell_type": "markdown",
   "metadata": {},
   "source": [
    "### Split the Dataset"
   ]
  },
  {
   "cell_type": "markdown",
   "metadata": {},
   "source": []
  },
  {
   "cell_type": "code",
   "execution_count": 51,
   "metadata": {},
   "outputs": [],
   "source": [
    "features_train, features_test, predict_train, predict_test = train_test_split(df_pca,y, test_size = 0.30, random_state = 1)"
   ]
  },
  {
   "cell_type": "code",
   "execution_count": 52,
   "metadata": {},
   "outputs": [],
   "source": [
    "select = sklearn.feature_selection.SelectKBest(k=7)\n",
    "selected_features = select.fit(features_train, predict_train)\n",
    "indices_selected = selected_features.get_support(indices=True)\n",
    "colnames_selected = [features_train.columns[i] for i in indices_selected]"
   ]
  },
  {
   "cell_type": "markdown",
   "metadata": {
    "colab_type": "text",
    "id": "eYpMLK4LoA0F"
   },
   "source": [
    "### Logistic Regression with PCA"
   ]
  },
  {
   "cell_type": "code",
   "execution_count": 53,
   "metadata": {
    "colab": {},
    "colab_type": "code",
    "id": "MbuxABpZoA0F"
   },
   "outputs": [],
   "source": [
    "logreg = LogisticRegression(random_state=42)"
   ]
  },
  {
   "cell_type": "code",
   "execution_count": 54,
   "metadata": {
    "colab": {},
    "colab_type": "code",
    "id": "WFYBv_QIoA0G"
   },
   "outputs": [],
   "source": [
    "model = LogisticRegression(max_iter=10000)"
   ]
  },
  {
   "cell_type": "code",
   "execution_count": 55,
   "metadata": {
    "colab": {},
    "colab_type": "code",
    "id": "lKLPrU6coA0I"
   },
   "outputs": [],
   "source": [
    "model = logreg.fit(features_train, predict_train)"
   ]
  },
  {
   "cell_type": "markdown",
   "metadata": {
    "colab_type": "text",
    "id": "gG8tc-ptoA0J"
   },
   "source": [
    "### Round Winner Prediction"
   ]
  },
  {
   "cell_type": "code",
   "execution_count": 56,
   "metadata": {
    "colab": {},
    "colab_type": "code",
    "id": "1L7OemSJoA0J"
   },
   "outputs": [],
   "source": [
    "predicted = model.predict(features_test)"
   ]
  },
  {
   "cell_type": "markdown",
   "metadata": {
    "colab_type": "text",
    "id": "IYQpb65OoA0N"
   },
   "source": [
    "\n",
    "\n",
    "```\n",
    "# This is formatted as code\n",
    "```\n",
    "\n",
    "### Calculate Accuracy"
   ]
  },
  {
   "cell_type": "code",
   "execution_count": 57,
   "metadata": {
    "colab": {},
    "colab_type": "code",
    "id": "D8eVrK1BoA0N"
   },
   "outputs": [
    {
     "name": "stdout",
     "output_type": "stream",
     "text": [
      "Accuracy =  0.7263470338459002\n"
     ]
    }
   ],
   "source": [
    "accuracy = accuracy_score(predict_test,predicted)\n",
    "print(\"Accuracy = \", accuracy)"
   ]
  },
  {
   "cell_type": "markdown",
   "metadata": {
    "colab_type": "text",
    "id": "TDS9_ixVJtOG"
   },
   "source": [
    "*Logistic Accuracy* =  0.7263882590592406\n"
   ]
  },
  {
   "cell_type": "markdown",
   "metadata": {
    "colab_type": "text",
    "id": "xQ7vM6JVJ3y-"
   },
   "source": [
    "### Random Forest with PCA"
   ]
  },
  {
   "cell_type": "code",
   "execution_count": 58,
   "metadata": {
    "colab": {},
    "colab_type": "code",
    "id": "ebMNaAO3J6Gk"
   },
   "outputs": [],
   "source": [
    "rf_class = RandomForestClassifier(random_state=42)\n",
    "model_rf = rf_class.fit(features_train[colnames_selected], predict_train)"
   ]
  },
  {
   "cell_type": "code",
   "execution_count": 59,
   "metadata": {
    "colab": {},
    "colab_type": "code",
    "id": "5WCzFwG0J7db"
   },
   "outputs": [],
   "source": [
    "predicted_rf = model_rf.predict(features_test[colnames_selected])"
   ]
  },
  {
   "cell_type": "markdown",
   "metadata": {
    "colab_type": "text",
    "id": "eOyIoysoKBTE"
   },
   "source": [
    "**Calculate Accuracy**"
   ]
  },
  {
   "cell_type": "code",
   "execution_count": 60,
   "metadata": {
    "colab": {},
    "colab_type": "code",
    "id": "NIIfp3YmKEcx"
   },
   "outputs": [
    {
     "name": "stdout",
     "output_type": "stream",
     "text": [
      "Random Forest Accuracy =  0.743455497382199\n"
     ]
    }
   ],
   "source": [
    "accuracy = accuracy_score(predict_test,predicted_rf)\n",
    "print(\"Random Forest Accuracy = \", accuracy)"
   ]
  },
  {
   "cell_type": "markdown",
   "metadata": {
    "colab_type": "text",
    "id": "H-KR_HQZKGHm"
   },
   "source": [
    "Random Forest Accuracy = 0.7455"
   ]
  },
  {
   "cell_type": "markdown",
   "metadata": {},
   "source": [
    "### XGBoost with PCA"
   ]
  },
  {
   "cell_type": "code",
   "execution_count": 61,
   "metadata": {},
   "outputs": [],
   "source": [
    "xg_class = XGBClassifier(random_state=42)\n",
    "model_xg = xg_class.fit(features_train[colnames_selected], predict_train)"
   ]
  },
  {
   "cell_type": "code",
   "execution_count": 62,
   "metadata": {},
   "outputs": [],
   "source": [
    "predicted_xg = model_xg.predict(features_test[colnames_selected])"
   ]
  },
  {
   "cell_type": "markdown",
   "metadata": {},
   "source": [
    "**Calculate Accuracy**"
   ]
  },
  {
   "cell_type": "code",
   "execution_count": 63,
   "metadata": {},
   "outputs": [
    {
     "name": "stdout",
     "output_type": "stream",
     "text": [
      "Accuracy =  0.743455497382199\n"
     ]
    }
   ],
   "source": [
    "accuracy = accuracy_score(predict_test,predicted_rf)\n",
    "print(\"Accuracy = \", accuracy)"
   ]
  },
  {
   "cell_type": "markdown",
   "metadata": {},
   "source": [
    "XGBoost Accuracy = 0.74559"
   ]
  },
  {
   "cell_type": "markdown",
   "metadata": {},
   "source": [
    "# **Random Forest with Hyperperemeter tuning**"
   ]
  },
  {
   "cell_type": "markdown",
   "metadata": {},
   "source": [
    "### RD Tuning for max_depth"
   ]
  },
  {
   "cell_type": "code",
   "execution_count": 64,
   "metadata": {},
   "outputs": [
    {
     "name": "stdout",
     "output_type": "stream",
     "text": [
      "Fitting 10 folds for each of 4 candidates, totalling 40 fits\n"
     ]
    },
    {
     "name": "stderr",
     "output_type": "stream",
     "text": [
      "[Parallel(n_jobs=-1)]: Using backend LokyBackend with 12 concurrent workers.\n",
      "[Parallel(n_jobs=-1)]: Done  40 out of  40 | elapsed:  3.6min finished\n"
     ]
    },
    {
     "name": "stdout",
     "output_type": "stream",
     "text": [
      "Best: 0.860712 using {'max_depth': 35}\n",
      "0.840045 (0.003157) with: {'max_depth': 20}\n",
      "0.858832 (0.003173) with: {'max_depth': 30}\n",
      "0.860712 (0.001753) with: {'max_depth': 35}\n",
      "0.859821 (0.002045) with: {'max_depth': 40}\n"
     ]
    },
    {
     "data": {
      "image/png": "[encoded data removed]",
      "text/plain": [
       "<Figure size 432x288 with 1 Axes>"
      ]
     },
     "metadata": {
      "needs_background": "light"
     },
     "output_type": "display_data"
    }
   ],
   "source": [
    "import numpy \n",
    "# grid search\n",
    "model  = RandomForestClassifier()\n",
    "max_depth = [20,30,35,40]\n",
    "param_grid = dict(max_depth=max_depth)\n",
    "kfold = StratifiedKFold(n_splits=10, shuffle=True, random_state=7)\n",
    "grid_search = GridSearchCV(model, param_grid, scoring=\"accuracy\", n_jobs=-1, cv=kfold, verbose=1)\n",
    "grid_result = grid_search.fit(X, y)\n",
    "# summarize results\n",
    "print(\"Best: %f using %s\" % (grid_result.best_score_, grid_result.best_params_))\n",
    "means = grid_result.cv_results_['mean_test_score']\n",
    "stds = grid_result.cv_results_['std_test_score']\n",
    "params = grid_result.cv_results_['params']\n",
    "for mean, stdev, param in zip(means, stds, params):\n",
    "\tprint(\"%f (%f) with: %r\" % (mean, stdev, param))\n",
    "# plot\n",
    "pyplot.errorbar(max_depth, means, yerr=stds)\n",
    "pyplot.title(\"RD max_depth vs Accuracy\")\n",
    "pyplot.xlabel('max_depth')\n",
    "pyplot.ylabel('Accuracy')\n",
    "pyplot.savefig('RD_max_depth.png')"
   ]
  },
  {
   "cell_type": "markdown",
   "metadata": {},
   "source": [
    "0.857937 (0.003434) with: {'max_depth': 30}"
   ]
  },
  {
   "cell_type": "markdown",
   "metadata": {},
   "source": [
    "### Random Forest Tuning for n_estimators"
   ]
  },
  {
   "cell_type": "code",
   "execution_count": 65,
   "metadata": {},
   "outputs": [
    {
     "name": "stdout",
     "output_type": "stream",
     "text": [
      "Best: 0.865164 using {'n_estimators': 800}\n",
      "0.863866 (0.002746) with: {'n_estimators': 600}\n",
      "0.863977 (0.002957) with: {'n_estimators': 700}\n",
      "0.865164 (0.003099) with: {'n_estimators': 800}\n",
      "0.864348 (0.003432) with: {'n_estimators': 900}\n",
      "0.865164 (0.003903) with: {'n_estimators': 1000}\n",
      "0.865065 (0.002905) with: {'n_estimators': 1100}\n",
      "0.865041 (0.003340) with: {'n_estimators': 1200}\n"
     ]
    },
    {
     "data": {
      "image/png": "[encoded data removed]",
      "text/plain": [
       "<Figure size 432x288 with 1 Axes>"
      ]
     },
     "metadata": {
      "needs_background": "light"
     },
     "output_type": "display_data"
    }
   ],
   "source": [
    "\n",
    "# grid search\n",
    "model  = RandomForestClassifier()\n",
    "n_estimators = range(600, 1300, 100)\n",
    "param_grid = dict(n_estimators=n_estimators)\n",
    "kfold = StratifiedKFold(n_splits=10, shuffle=True, random_state=7)\n",
    "grid_search = GridSearchCV(model, param_grid, scoring=\"accuracy\", n_jobs=-1, cv=kfold)\n",
    "grid_result = grid_search.fit(X, y)\n",
    "# summarize results\n",
    "print(\"Best: %f using %s\" % (grid_result.best_score_, grid_result.best_params_))\n",
    "means = grid_result.cv_results_['mean_test_score']\n",
    "stds = grid_result.cv_results_['std_test_score']\n",
    "params = grid_result.cv_results_['params']\n",
    "for mean, stdev, param in zip(means, stds, params):\n",
    "\tprint(\"%f (%f) with: %r\" % (mean, stdev, param))\n",
    "# plot\n",
    "pyplot.errorbar(n_estimators, means, yerr=stds)\n",
    "pyplot.title(\"RandomForest n_estimators vs Accuracy\")\n",
    "pyplot.xlabel('n_estimators')\n",
    "pyplot.ylabel('Accuracy')\n",
    "pyplot.savefig('XG_n_estimators.png')"
   ]
  },
  {
   "cell_type": "markdown",
   "metadata": {},
   "source": [
    "### Random Forest Tuning for n_estimators vs max_depth"
   ]
  },
  {
   "cell_type": "code",
   "execution_count": 66,
   "metadata": {},
   "outputs": [
    {
     "name": "stdout",
     "output_type": "stream",
     "text": [
      "Fitting 10 folds for each of 20 candidates, totalling 200 fits\n"
     ]
    },
    {
     "name": "stderr",
     "output_type": "stream",
     "text": [
      "[Parallel(n_jobs=-1)]: Using backend LokyBackend with 12 concurrent workers.\n",
      "[Parallel(n_jobs=-1)]: Done  26 tasks      | elapsed: 23.9min\n",
      "[Parallel(n_jobs=-1)]: Done 176 tasks      | elapsed: 139.9min\n",
      "[Parallel(n_jobs=-1)]: Done 200 out of 200 | elapsed: 155.8min finished\n"
     ]
    },
    {
     "name": "stdout",
     "output_type": "stream",
     "text": [
      "Best: 0.865461 using {'max_depth': 40, 'n_estimators': 700}\n",
      "0.857917 (0.003965) with: {'max_depth': 25, 'n_estimators': 600}\n",
      "0.856742 (0.002981) with: {'max_depth': 25, 'n_estimators': 700}\n",
      "0.857546 (0.003157) with: {'max_depth': 25, 'n_estimators': 800}\n",
      "0.858300 (0.002680) with: {'max_depth': 25, 'n_estimators': 900}\n",
      "0.857657 (0.002892) with: {'max_depth': 25, 'n_estimators': 1000}\n",
      "0.862938 (0.003253) with: {'max_depth': 30, 'n_estimators': 600}\n",
      "0.862814 (0.003596) with: {'max_depth': 30, 'n_estimators': 700}\n",
      "0.862864 (0.002631) with: {'max_depth': 30, 'n_estimators': 800}\n",
      "0.863284 (0.003105) with: {'max_depth': 30, 'n_estimators': 900}\n",
      "0.863371 (0.003055) with: {'max_depth': 30, 'n_estimators': 1000}\n",
      "0.864175 (0.002890) with: {'max_depth': 35, 'n_estimators': 600}\n",
      "0.864360 (0.003066) with: {'max_depth': 35, 'n_estimators': 700}\n",
      "0.864348 (0.003209) with: {'max_depth': 35, 'n_estimators': 800}\n",
      "0.864707 (0.003076) with: {'max_depth': 35, 'n_estimators': 900}\n",
      "0.864286 (0.003225) with: {'max_depth': 35, 'n_estimators': 1000}\n",
      "0.864867 (0.003146) with: {'max_depth': 40, 'n_estimators': 600}\n",
      "0.865461 (0.003359) with: {'max_depth': 40, 'n_estimators': 700}\n",
      "0.864385 (0.002802) with: {'max_depth': 40, 'n_estimators': 800}\n",
      "0.864942 (0.002879) with: {'max_depth': 40, 'n_estimators': 900}\n",
      "0.865201 (0.002823) with: {'max_depth': 40, 'n_estimators': 1000}\n"
     ]
    },
    {
     "data": {
      "image/png": "[encoded data removed]",
      "text/plain": [
       "<Figure size 432x288 with 1 Axes>"
      ]
     },
     "metadata": {
      "needs_background": "light"
     },
     "output_type": "display_data"
    }
   ],
   "source": [
    "# grid search\n",
    "model = RandomForestClassifier()\n",
    "n_estimators = [600,700,800,900,1000]\n",
    "max_depth = [25,30,35,40]\n",
    "param_grid = dict(max_depth=max_depth, n_estimators=n_estimators)\n",
    "kfold = StratifiedKFold(n_splits=10, shuffle=True, random_state=7)\n",
    "grid_search = GridSearchCV(model, param_grid, scoring=\"accuracy\", n_jobs=-1, cv=kfold, verbose=1)\n",
    "grid_result = grid_search.fit(X, y)\n",
    "# summarize results\n",
    "print(\"Best: %f using %s\" % (grid_result.best_score_, grid_result.best_params_))\n",
    "means = grid_result.cv_results_['mean_test_score']\n",
    "stds = grid_result.cv_results_['std_test_score']\n",
    "params = grid_result.cv_results_['params']\n",
    "for mean, stdev, param in zip(means, stds, params):\n",
    "\tprint(\"%f (%f) with: %r\" % (mean, stdev, param))\n",
    "# plot results\n",
    "scores = numpy.array(means).reshape(len(max_depth), len(n_estimators))\n",
    "for i, value in enumerate(max_depth):\n",
    "    pyplot.plot(n_estimators, scores[i], label='depth: ' + str(value))\n",
    "pyplot.legend()\n",
    "pyplot.xlabel('Random Forest n_estimators vs accuracy')\n",
    "pyplot.ylabel('Accuracy')\n",
    "pyplot.savefig('RD_n_estimators_vs_max_depth.png')"
   ]
  },
  {
   "cell_type": "markdown",
   "metadata": {},
   "source": [
    "### Random Forest for Max Features"
   ]
  },
  {
   "cell_type": "code",
   "execution_count": 67,
   "metadata": {},
   "outputs": [
    {
     "name": "stdout",
     "output_type": "stream",
     "text": [
      "['auto', 'sqrt']\n",
      "Fitting 10 folds for each of 2 candidates, totalling 20 fits\n"
     ]
    },
    {
     "name": "stderr",
     "output_type": "stream",
     "text": [
      "[Parallel(n_jobs=-1)]: Using backend LokyBackend with 12 concurrent workers.\n",
      "[Parallel(n_jobs=-1)]: Done  18 out of  20 | elapsed:  1.9min remaining:   12.6s\n",
      "[Parallel(n_jobs=-1)]: Done  20 out of  20 | elapsed:  1.9min finished\n"
     ]
    },
    {
     "name": "stdout",
     "output_type": "stream",
     "text": [
      "Best: 0.861120 using {'max_features': 'sqrt'}\n",
      "0.860106 (0.003624) with: {'max_features': 'auto'}\n",
      "0.861120 (0.002785) with: {'max_features': 'sqrt'}\n"
     ]
    },
    {
     "data": {
      "image/png": "[encoded data removed]",
      "text/plain": [
       "<Figure size 432x288 with 1 Axes>"
      ]
     },
     "metadata": {
      "needs_background": "light"
     },
     "output_type": "display_data"
    }
   ],
   "source": [
    "\n",
    "# grid search\n",
    "model  = RandomForestClassifier()\n",
    "max_features = ['auto', 'sqrt']\n",
    "print(max_features)\n",
    "param_grid = dict(max_features = max_features)\n",
    "kfold = StratifiedKFold(n_splits=10, shuffle=True, random_state=7)\n",
    "grid_search = GridSearchCV(model, param_grid, scoring=\"accuracy\", n_jobs=-1, cv=kfold, verbose=1)\n",
    "grid_result = grid_search.fit(X, y)\n",
    "# summarize results\n",
    "print(\"Best: %f using %s\" % (grid_result.best_score_, grid_result.best_params_))\n",
    "means = grid_result.cv_results_['mean_test_score']\n",
    "stds = grid_result.cv_results_['std_test_score']\n",
    "params = grid_result.cv_results_['params']\n",
    "for mean, stdev, param in zip(means, stds, params):\n",
    "\tprint(\"%f (%f) with: %r\" % (mean, stdev, param))\n",
    "# plot\n",
    "pyplot.errorbar(max_features, means, yerr=stds)\n",
    "pyplot.title(\"XGBoost max_features vs Accuracy\")\n",
    "pyplot.xlabel('max_features')\n",
    "pyplot.ylabel('Log Loss')\n",
    "pyplot.savefig('XG_max_features.png')"
   ]
  },
  {
   "cell_type": "markdown",
   "metadata": {},
   "source": [
    "<h1><center>  <font color='blue'> HyperParameter Tuning for GXBOOST </font></center></h1> "
   ]
  },
  {
   "cell_type": "markdown",
   "metadata": {},
   "source": [
    "### XB Tune n_estimators (number of trees)"
   ]
  },
  {
   "cell_type": "code",
   "execution_count": 68,
   "metadata": {},
   "outputs": [
    {
     "name": "stdout",
     "output_type": "stream",
     "text": [
      "Best: 0.870173 using {'n_estimators': 900}\n",
      "0.805217 (0.003847) with: {'n_estimators': 100}\n",
      "0.824560 (0.004359) with: {'n_estimators': 200}\n",
      "0.838091 (0.003751) with: {'n_estimators': 300}\n",
      "0.846674 (0.003870) with: {'n_estimators': 400}\n",
      "0.853019 (0.002878) with: {'n_estimators': 500}\n",
      "0.858869 (0.002805) with: {'n_estimators': 600}\n",
      "0.863878 (0.002600) with: {'n_estimators': 700}\n",
      "0.867131 (0.002722) with: {'n_estimators': 800}\n",
      "0.870173 (0.002598) with: {'n_estimators': 900}\n"
     ]
    },
    {
     "data": {
      "image/png": "[encoded data removed]",
      "text/plain": [
       "<Figure size 432x288 with 1 Axes>"
      ]
     },
     "metadata": {
      "needs_background": "light"
     },
     "output_type": "display_data"
    }
   ],
   "source": [
    "# grid search\n",
    "model = XGBClassifier()\n",
    "n_estimators = range(100, 1000, 100)\n",
    "param_grid = dict(n_estimators=n_estimators)\n",
    "kfold = StratifiedKFold(n_splits=10, shuffle=True, random_state=7)\n",
    "grid_search = GridSearchCV(model, param_grid, scoring=\"accuracy\", n_jobs=-1, cv=kfold)\n",
    "grid_result = grid_search.fit(X, y)\n",
    "# summarize results\n",
    "print(\"Best: %f using %s\" % (grid_result.best_score_, grid_result.best_params_))\n",
    "means = grid_result.cv_results_['mean_test_score']\n",
    "stds = grid_result.cv_results_['std_test_score']\n",
    "params = grid_result.cv_results_['params']\n",
    "for mean, stdev, param in zip(means, stds, params):\n",
    "\tprint(\"%f (%f) with: %r\" % (mean, stdev, param))\n",
    "# plot\n",
    "pyplot.errorbar(n_estimators, means, yerr=stds)\n",
    "pyplot.title(\"XGBoost n_estimators vs Accuracy\")\n",
    "pyplot.xlabel('n_estimators')\n",
    "pyplot.ylabel('Accuracy')\n",
    "pyplot.savefig('XG_n_estimators.png')"
   ]
  },
  {
   "cell_type": "markdown",
   "metadata": {},
   "source": [
    "Best: 0.869668 using {'n_estimators': 900}"
   ]
  },
  {
   "cell_type": "markdown",
   "metadata": {},
   "source": [
    "### XB Tune max_depth (size of trees)"
   ]
  },
  {
   "cell_type": "code",
   "execution_count": 69,
   "metadata": {},
   "outputs": [
    {
     "name": "stdout",
     "output_type": "stream",
     "text": [
      "Fitting 10 folds for each of 4 candidates, totalling 40 fits\n"
     ]
    },
    {
     "name": "stderr",
     "output_type": "stream",
     "text": [
      "[Parallel(n_jobs=-1)]: Using backend LokyBackend with 12 concurrent workers.\n",
      "[Parallel(n_jobs=-1)]: Done  40 out of  40 | elapsed:  4.7min finished\n"
     ]
    },
    {
     "name": "stdout",
     "output_type": "stream",
     "text": [
      "Best: 0.859759 using {'max_depth': 11}\n",
      "0.794073 (0.004934) with: {'max_depth': 5}\n",
      "0.818648 (0.003741) with: {'max_depth': 7}\n",
      "0.841579 (0.004051) with: {'max_depth': 9}\n",
      "0.859759 (0.003475) with: {'max_depth': 11}\n"
     ]
    },
    {
     "data": {
      "image/png": "[encoded data removed]",
      "text/plain": [
       "<Figure size 432x288 with 1 Axes>"
      ]
     },
     "metadata": {
      "needs_background": "light"
     },
     "output_type": "display_data"
    }
   ],
   "source": [
    "# grid search\n",
    "model = XGBClassifier()\n",
    "max_depth = range(5, 13, 2)\n",
    "param_grid = dict(max_depth=max_depth)\n",
    "kfold = StratifiedKFold(n_splits=10, shuffle=True, random_state=7)\n",
    "grid_search = GridSearchCV(model, param_grid, scoring=\"accuracy\", n_jobs=-1, cv=kfold, verbose=1)\n",
    "grid_result = grid_search.fit(X, y)\n",
    "# summarize results\n",
    "print(\"Best: %f using %s\" % (grid_result.best_score_, grid_result.best_params_))\n",
    "means = grid_result.cv_results_['mean_test_score']\n",
    "stds = grid_result.cv_results_['std_test_score']\n",
    "params = grid_result.cv_results_['params']\n",
    "for mean, stdev, param in zip(means, stds, params):\n",
    "\tprint(\"%f (%f) with: %r\" % (mean, stdev, param))\n",
    "# plot\n",
    "pyplot.errorbar(max_depth, means, yerr=stds)\n",
    "pyplot.title(\"XGBoost max_depth vs Accuracy\")\n",
    "pyplot.xlabel('max_depth')\n",
    "pyplot.ylabel('Accuracy')\n",
    "pyplot.savefig('max_depth.png')"
   ]
  },
  {
   "cell_type": "markdown",
   "metadata": {},
   "source": [
    "Best: 0.842308 using {'max_depth': 9}"
   ]
  },
  {
   "cell_type": "markdown",
   "metadata": {},
   "source": [
    "### XB Tune n_estimators vs max_depth"
   ]
  },
  {
   "cell_type": "code",
   "execution_count": 70,
   "metadata": {},
   "outputs": [
    {
     "name": "stdout",
     "output_type": "stream",
     "text": [
      "[8, 10, 11, 12, 14]\n",
      "Fitting 10 folds for each of 25 candidates, totalling 250 fits\n"
     ]
    },
    {
     "name": "stderr",
     "output_type": "stream",
     "text": [
      "[Parallel(n_jobs=-1)]: Using backend LokyBackend with 12 concurrent workers.\n",
      "[Parallel(n_jobs=-1)]: Done  26 tasks      | elapsed: 24.8min\n",
      "[Parallel(n_jobs=-1)]: Done 176 tasks      | elapsed: 154.9min\n",
      "[Parallel(n_jobs=-1)]: Done 250 out of 250 | elapsed: 235.4min finished\n"
     ]
    },
    {
     "name": "stdout",
     "output_type": "stream",
     "text": [
      "Best: 0.886079 using {'max_depth': 12, 'n_estimators': 750}\n",
      "0.878225 (0.003637) with: {'max_depth': 8, 'n_estimators': 550}\n",
      "0.879536 (0.002700) with: {'max_depth': 8, 'n_estimators': 600}\n",
      "0.880983 (0.002949) with: {'max_depth': 8, 'n_estimators': 650}\n",
      "0.881948 (0.002817) with: {'max_depth': 8, 'n_estimators': 700}\n",
      "0.882517 (0.002215) with: {'max_depth': 8, 'n_estimators': 750}\n",
      "0.883370 (0.002729) with: {'max_depth': 10, 'n_estimators': 550}\n",
      "0.884397 (0.002622) with: {'max_depth': 10, 'n_estimators': 600}\n",
      "0.884631 (0.002575) with: {'max_depth': 10, 'n_estimators': 650}\n",
      "0.885176 (0.002471) with: {'max_depth': 10, 'n_estimators': 700}\n",
      "0.885571 (0.003016) with: {'max_depth': 10, 'n_estimators': 750}\n",
      "0.884582 (0.002747) with: {'max_depth': 11, 'n_estimators': 550}\n",
      "0.884928 (0.002918) with: {'max_depth': 11, 'n_estimators': 600}\n",
      "0.885695 (0.002768) with: {'max_depth': 11, 'n_estimators': 650}\n",
      "0.885745 (0.002945) with: {'max_depth': 11, 'n_estimators': 700}\n",
      "0.885720 (0.003373) with: {'max_depth': 11, 'n_estimators': 750}\n",
      "0.885213 (0.002788) with: {'max_depth': 12, 'n_estimators': 550}\n",
      "0.885497 (0.002849) with: {'max_depth': 12, 'n_estimators': 600}\n",
      "0.885745 (0.002732) with: {'max_depth': 12, 'n_estimators': 650}\n",
      "0.885943 (0.002506) with: {'max_depth': 12, 'n_estimators': 700}\n",
      "0.886079 (0.002490) with: {'max_depth': 12, 'n_estimators': 750}\n",
      "0.883024 (0.003797) with: {'max_depth': 14, 'n_estimators': 550}\n",
      "0.883036 (0.003837) with: {'max_depth': 14, 'n_estimators': 600}\n",
      "0.883073 (0.003448) with: {'max_depth': 14, 'n_estimators': 650}\n",
      "0.883395 (0.003287) with: {'max_depth': 14, 'n_estimators': 700}\n",
      "0.883902 (0.003501) with: {'max_depth': 14, 'n_estimators': 750}\n"
     ]
    },
    {
     "data": {
      "image/png": "[encoded data removed]",
      "text/plain": [
       "<Figure size 432x288 with 1 Axes>"
      ]
     },
     "metadata": {
      "needs_background": "light"
     },
     "output_type": "display_data"
    }
   ],
   "source": [
    "# grid search\n",
    "model = XGBClassifier()\n",
    "n_estimators = [550,600,650,700,750]\n",
    "max_depth = [8,10,11,12,14]\n",
    "print(max_depth)\n",
    "param_grid = dict(max_depth=max_depth, n_estimators=n_estimators)\n",
    "kfold = StratifiedKFold(n_splits=10, shuffle=True, random_state=7)\n",
    "grid_search = GridSearchCV(model, param_grid, scoring=\"accuracy\", n_jobs=-1, cv=kfold, verbose=1)\n",
    "grid_result = grid_search.fit(X, y)\n",
    "# summarize results\n",
    "print(\"Best: %f using %s\" % (grid_result.best_score_, grid_result.best_params_))\n",
    "means = grid_result.cv_results_['mean_test_score']\n",
    "stds = grid_result.cv_results_['std_test_score']\n",
    "params = grid_result.cv_results_['params']\n",
    "for mean, stdev, param in zip(means, stds, params):\n",
    "\tprint(\"%f (%f) with: %r\" % (mean, stdev, param))\n",
    "# plot results\n",
    "scores = numpy.array(means).reshape(len(max_depth), len(n_estimators))\n",
    "for i, value in enumerate(max_depth):\n",
    "    pyplot.plot(n_estimators, scores[i], label='depth: ' + str(value))\n",
    "pyplot.legend()\n",
    "pyplot.xlabel('XGBoost n_estimators vs accuracy')\n",
    "pyplot.ylabel('Accuracy')\n",
    "pyplot.savefig('XG_n_estimators_vs_max_depth.png')"
   ]
  },
  {
   "cell_type": "markdown",
   "metadata": {},
   "source": [
    "Best: 0.882481 using {'max_depth': 10, 'n_estimators': 500}"
   ]
  },
  {
   "cell_type": "markdown",
   "metadata": {},
   "source": [
    "### Tune learning_rate"
   ]
  },
  {
   "cell_type": "code",
   "execution_count": 71,
   "metadata": {},
   "outputs": [
    {
     "name": "stdout",
     "output_type": "stream",
     "text": [
      "Best: 0.814369 using {'learning_rate': 0.5}\n",
      "0.805217 (0.003847) with: {'learning_rate': 0.3}\n",
      "0.810040 (0.003737) with: {'learning_rate': 0.4}\n",
      "0.814369 (0.002854) with: {'learning_rate': 0.5}\n"
     ]
    },
    {
     "data": {
      "image/png": "[encoded data removed]",
      "text/plain": [
       "<Figure size 432x288 with 1 Axes>"
      ]
     },
     "metadata": {
      "needs_background": "light"
     },
     "output_type": "display_data"
    }
   ],
   "source": [
    "# grid search\n",
    "model = XGBClassifier()\n",
    "learning_rate = [0.3,0.4,0.5]\n",
    "param_grid = dict(learning_rate=learning_rate)\n",
    "kfold = StratifiedKFold(n_splits=10, shuffle=True, random_state=7)\n",
    "grid_search = GridSearchCV(model, param_grid, scoring=\"accuracy\", n_jobs=-1, cv=kfold)\n",
    "grid_result = grid_search.fit(X, y)\n",
    "# summarize results\n",
    "print(\"Best: %f using %s\" % (grid_result.best_score_, grid_result.best_params_))\n",
    "means = grid_result.cv_results_['mean_test_score']\n",
    "stds = grid_result.cv_results_['std_test_score']\n",
    "params = grid_result.cv_results_['params']\n",
    "for mean, stdev, param in zip(means, stds, params):\n",
    "\tprint(\"%f (%f) with: %r\" % (mean, stdev, param))\n",
    "# plot\n",
    "pyplot.errorbar(learning_rate, means, yerr=stds)\n",
    "pyplot.title(\"XGBoost learning_rate vs Accuracy\")\n",
    "pyplot.xlabel('learning_rate')\n",
    "pyplot.ylabel('Accuracy')\n",
    "pyplot.savefig('XG_learning_rate.png')"
   ]
  },
  {
   "cell_type": "markdown",
   "metadata": {},
   "source": [
    "Best: 0.813620 using {'learning_rate': 0.5}"
   ]
  },
  {
   "cell_type": "markdown",
   "metadata": {},
   "source": [
    "### Tune learning_date vs n_estimators"
   ]
  },
  {
   "cell_type": "code",
   "execution_count": 72,
   "metadata": {},
   "outputs": [
    {
     "name": "stdout",
     "output_type": "stream",
     "text": [
      "Best: 0.868380 using {'learning_rate': 0.5, 'n_estimators': 650}\n",
      "0.842556 (0.003578) with: {'learning_rate': 0.2, 'n_estimators': 500}\n",
      "0.846353 (0.003421) with: {'learning_rate': 0.2, 'n_estimators': 550}\n",
      "0.847490 (0.003979) with: {'learning_rate': 0.2, 'n_estimators': 600}\n",
      "0.851090 (0.004026) with: {'learning_rate': 0.2, 'n_estimators': 650}\n",
      "0.853019 (0.002878) with: {'learning_rate': 0.3, 'n_estimators': 500}\n",
      "0.856272 (0.002943) with: {'learning_rate': 0.3, 'n_estimators': 550}\n",
      "0.858869 (0.002805) with: {'learning_rate': 0.3, 'n_estimators': 600}\n",
      "0.861046 (0.002813) with: {'learning_rate': 0.3, 'n_estimators': 650}\n",
      "0.858226 (0.004279) with: {'learning_rate': 0.4, 'n_estimators': 500}\n",
      "0.861615 (0.004546) with: {'learning_rate': 0.4, 'n_estimators': 550}\n",
      "0.863433 (0.004812) with: {'learning_rate': 0.4, 'n_estimators': 600}\n",
      "0.865189 (0.004584) with: {'learning_rate': 0.4, 'n_estimators': 650}\n",
      "0.863173 (0.002687) with: {'learning_rate': 0.5, 'n_estimators': 500}\n",
      "0.864385 (0.002315) with: {'learning_rate': 0.5, 'n_estimators': 550}\n",
      "0.867131 (0.002516) with: {'learning_rate': 0.5, 'n_estimators': 600}\n",
      "0.868380 (0.002966) with: {'learning_rate': 0.5, 'n_estimators': 650}\n",
      "0.863779 (0.002906) with: {'learning_rate': 0.6, 'n_estimators': 500}\n",
      "0.864830 (0.002794) with: {'learning_rate': 0.6, 'n_estimators': 550}\n",
      "0.866747 (0.003317) with: {'learning_rate': 0.6, 'n_estimators': 600}\n",
      "0.867650 (0.003417) with: {'learning_rate': 0.6, 'n_estimators': 650}\n"
     ]
    },
    {
     "data": {
      "image/png": "[encoded data removed]",
      "text/plain": [
       "<Figure size 432x288 with 1 Axes>"
      ]
     },
     "metadata": {
      "needs_background": "light"
     },
     "output_type": "display_data"
    }
   ],
   "source": [
    "# grid search\n",
    "model = XGBClassifier()\n",
    "n_estimators = [500,550,600,650]\n",
    "learning_rate = [0.2,0.3,0.4,0.5,0.6]\n",
    "param_grid = dict(learning_rate=learning_rate, n_estimators=n_estimators)\n",
    "kfold = StratifiedKFold(n_splits=10, shuffle=True, random_state=7)\n",
    "grid_search = GridSearchCV(model, param_grid, scoring=\"accuracy\", n_jobs=-1, cv=kfold)\n",
    "grid_result = grid_search.fit(X,y)\n",
    "# summarize results\n",
    "print(\"Best: %f using %s\" % (grid_result.best_score_, grid_result.best_params_))\n",
    "means = grid_result.cv_results_['mean_test_score']\n",
    "stds = grid_result.cv_results_['std_test_score']\n",
    "params = grid_result.cv_results_['params']\n",
    "for mean, stdev, param in zip(means, stds, params):\n",
    "\tprint(\"%f (%f) with: %r\" % (mean, stdev, param))\n",
    "# plot results\n",
    "scores = numpy.array(means).reshape(len(learning_rate), len(n_estimators))\n",
    "for i, value in enumerate(learning_rate):\n",
    "    pyplot.plot(n_estimators, scores[i], label='learning_rate: ' + str(value))\n",
    "pyplot.legend()\n",
    "pyplot.xlabel('XGBoost n_estimators vs learning rate')\n",
    "pyplot.ylabel('Accuracy')\n",
    "pyplot.savefig('XG_n_estimators_vs_learning_rate.png')"
   ]
  },
  {
   "cell_type": "markdown",
   "metadata": {},
   "source": [
    "Best: 0.866643 using {'learning_rate': 0.5, 'n_estimators': 600}"
   ]
  },
  {
   "cell_type": "markdown",
   "metadata": {},
   "source": [
    "### XGBoost Tune colsample_bytree (not relevant)"
   ]
  },
  {
   "cell_type": "code",
   "execution_count": 73,
   "metadata": {},
   "outputs": [
    {
     "data": {
      "text/plain": [
       "' \\nmodel = XGBClassifier(nthread=-1)\\ncolsample_bytree = [0.7,0.8,0.9,1.0]\\nparam_grid = dict(colsample_bytree=colsample_bytree)\\nkfold = StratifiedKFold(n_splits=10, shuffle=True, random_state=7)\\ngrid_search = GridSearchCV(model, param_grid, scoring=\"accuracy\", n_jobs=-1, cv=kfold)\\ngrid_result = grid_search.fit(X, y)\\n# summarize results\\nprint(\"Best: %f using %s\" % (grid_result.best_score_, grid_result.best_params_))\\nmeans = grid_result.cv_results_[\\'mean_test_score\\']\\nstds = grid_result.cv_results_[\\'std_test_score\\']\\nparams = grid_result.cv_results_[\\'params\\']\\nfor mean, stdev, param in zip(means, stds, params):\\n\\tprint(\"%f (%f) with: %r\" % (mean, stdev, param))\\n# plot\\npyplot.errorbar(colsample_bytree, means, yerr=stds)\\npyplot.title(\"XGBoost colsample_bytree vs Log Loss\")\\npyplot.xlabel(\\'colsample_bytree\\')\\npyplot.ylabel(\\'Log Loss\\')\\npyplot.savefig(\\'colsample_bytree.png\\')\\n'"
      ]
     },
     "execution_count": 73,
     "metadata": {},
     "output_type": "execute_result"
    }
   ],
   "source": [
    "# grid search\n",
    "\"\"\" \n",
    "model = XGBClassifier(nthread=-1)\n",
    "colsample_bytree = [0.7,0.8,0.9,1.0]\n",
    "param_grid = dict(colsample_bytree=colsample_bytree)\n",
    "kfold = StratifiedKFold(n_splits=10, shuffle=True, random_state=7)\n",
    "grid_search = GridSearchCV(model, param_grid, scoring=\"accuracy\", n_jobs=-1, cv=kfold)\n",
    "grid_result = grid_search.fit(X, y)\n",
    "# summarize results\n",
    "print(\"Best: %f using %s\" % (grid_result.best_score_, grid_result.best_params_))\n",
    "means = grid_result.cv_results_['mean_test_score']\n",
    "stds = grid_result.cv_results_['std_test_score']\n",
    "params = grid_result.cv_results_['params']\n",
    "for mean, stdev, param in zip(means, stds, params):\n",
    "\tprint(\"%f (%f) with: %r\" % (mean, stdev, param))\n",
    "# plot\n",
    "pyplot.errorbar(colsample_bytree, means, yerr=stds)\n",
    "pyplot.title(\"XGBoost colsample_bytree vs Log Loss\")\n",
    "pyplot.xlabel('colsample_bytree')\n",
    "pyplot.ylabel('Log Loss')\n",
    "pyplot.savefig('colsample_bytree.png')\n",
    "\"\"\" "
   ]
  },
  {
   "cell_type": "markdown",
   "metadata": {},
   "source": [
    "Best: 0.805824 using {'colsample_bytree': 1.0}"
   ]
  },
  {
   "cell_type": "markdown",
   "metadata": {},
   "source": [
    "### XGBoost Tune colsample_bylevel (not relevant)"
   ]
  },
  {
   "cell_type": "code",
   "execution_count": 74,
   "metadata": {},
   "outputs": [
    {
     "data": {
      "text/plain": [
       "' model = XGBClassifier(nthread=-1)\\ncolsample_bylevel = [0.1, 0.2, 0.3, 0.4, 0.5, 0.6, 0.7, 0.8, 1.0]\\nparam_grid = dict(colsample_bylevel=colsample_bylevel)\\nkfold = StratifiedKFold(n_splits=10, shuffle=True, random_state=7)\\ngrid_search = GridSearchCV(model, param_grid, scoring=\"accuracy\", n_jobs=-1, cv=kfold)\\ngrid_result = grid_search.fit(X, y)\\n# summarize results\\nprint(\"Best: %f using %s\" % (grid_result.best_score_, grid_result.best_params_))\\nmeans = grid_result.cv_results_[\\'mean_test_score\\']\\nstds = grid_result.cv_results_[\\'std_test_score\\']\\nparams = grid_result.cv_results_[\\'params\\']\\nfor mean, stdev, param in zip(means, stds, params):\\n\\tprint(\"%f (%f) with: %r\" % (mean, stdev, param))\\n# plot\\npyplot.errorbar(colsample_bylevel, means, yerr=stds)\\npyplot.title(\"XGBoost colsample_bylevel vs Log Loss\")\\npyplot.xlabel(\\'colsample_bylevel\\')\\npyplot.ylabel(\\'Log Loss\\')\\npyplot.savefig(\\'colsample_bylevel.png\\') \\n\\n'"
      ]
     },
     "execution_count": 74,
     "metadata": {},
     "output_type": "execute_result"
    }
   ],
   "source": [
    "# grid search\n",
    "\"\"\" model = XGBClassifier(nthread=-1)\n",
    "colsample_bylevel = [0.1, 0.2, 0.3, 0.4, 0.5, 0.6, 0.7, 0.8, 1.0]\n",
    "param_grid = dict(colsample_bylevel=colsample_bylevel)\n",
    "kfold = StratifiedKFold(n_splits=10, shuffle=True, random_state=7)\n",
    "grid_search = GridSearchCV(model, param_grid, scoring=\"accuracy\", n_jobs=-1, cv=kfold)\n",
    "grid_result = grid_search.fit(X, y)\n",
    "# summarize results\n",
    "print(\"Best: %f using %s\" % (grid_result.best_score_, grid_result.best_params_))\n",
    "means = grid_result.cv_results_['mean_test_score']\n",
    "stds = grid_result.cv_results_['std_test_score']\n",
    "params = grid_result.cv_results_['params']\n",
    "for mean, stdev, param in zip(means, stds, params):\n",
    "\tprint(\"%f (%f) with: %r\" % (mean, stdev, param))\n",
    "# plot\n",
    "pyplot.errorbar(colsample_bylevel, means, yerr=stds)\n",
    "pyplot.title(\"XGBoost colsample_bylevel vs Log Loss\")\n",
    "pyplot.xlabel('colsample_bylevel')\n",
    "pyplot.ylabel('Log Loss')\n",
    "pyplot.savefig('colsample_bylevel.png') \n",
    "\n",
    "\"\"\""
   ]
  },
  {
   "cell_type": "markdown",
   "metadata": {},
   "source": [
    "Best: 0.805824 using {'colsample_bylevel': 1.0}"
   ]
  },
  {
   "cell_type": "markdown",
   "metadata": {},
   "source": [
    "### XGBoost Tune subsample (not relevant)"
   ]
  },
  {
   "cell_type": "code",
   "execution_count": 75,
   "metadata": {},
   "outputs": [
    {
     "data": {
      "text/plain": [
       "' model = XGBClassifier()\\nsubsample = [0.6, 0.7, 0.8, 1.0]\\nparam_grid = dict(subsample=subsample)\\nkfold = StratifiedKFold(n_splits=10, shuffle=True, random_state=7)\\ngrid_search = GridSearchCV(model, param_grid, scoring=\"accuracy\", n_jobs=-1, cv=kfold)\\ngrid_result = grid_search.fit(X, y)\\n# summarize results\\nprint(\"Best: %f using %s\" % (grid_result.best_score_, grid_result.best_params_))\\nmeans = grid_result.cv_results_[\\'mean_test_score\\']\\nstds = grid_result.cv_results_[\\'std_test_score\\']\\nparams = grid_result.cv_results_[\\'params\\']\\nfor mean, stdev, param in zip(means, stds, params):\\n\\tprint(\"%f (%f) with: %r\" % (mean, stdev, param))\\n# plot\\npyplot.errorbar(subsample, means, yerr=stds)\\npyplot.title(\"XGBoost subsample vs Accuracy\")\\npyplot.xlabel(\\'subsample\\')\\npyplot.ylabel(\\'Log Loss\\')\\npyplot.savefig(\\'subsample.png\\')\\n'"
      ]
     },
     "execution_count": 75,
     "metadata": {},
     "output_type": "execute_result"
    }
   ],
   "source": [
    "# grid search\n",
    "\"\"\" model = XGBClassifier()\n",
    "subsample = [0.6, 0.7, 0.8, 1.0]\n",
    "param_grid = dict(subsample=subsample)\n",
    "kfold = StratifiedKFold(n_splits=10, shuffle=True, random_state=7)\n",
    "grid_search = GridSearchCV(model, param_grid, scoring=\"accuracy\", n_jobs=-1, cv=kfold)\n",
    "grid_result = grid_search.fit(X, y)\n",
    "# summarize results\n",
    "print(\"Best: %f using %s\" % (grid_result.best_score_, grid_result.best_params_))\n",
    "means = grid_result.cv_results_['mean_test_score']\n",
    "stds = grid_result.cv_results_['std_test_score']\n",
    "params = grid_result.cv_results_['params']\n",
    "for mean, stdev, param in zip(means, stds, params):\n",
    "\tprint(\"%f (%f) with: %r\" % (mean, stdev, param))\n",
    "# plot\n",
    "pyplot.errorbar(subsample, means, yerr=stds)\n",
    "pyplot.title(\"XGBoost subsample vs Accuracy\")\n",
    "pyplot.xlabel('subsample')\n",
    "pyplot.ylabel('Log Loss')\n",
    "pyplot.savefig('subsample.png')\n",
    "\"\"\" "
   ]
  },
  {
   "cell_type": "markdown",
   "metadata": {},
   "source": [
    "Best: 0.806537 using {'subsample': 1.0}"
   ]
  },
  {
   "cell_type": "markdown",
   "metadata": {},
   "source": [
    "<h1><center>  <font color='blue'> Best model on Validation set </font></center></h1> "
   ]
  },
  {
   "cell_type": "markdown",
   "metadata": {},
   "source": [
    "#We chose XGBoost as our best model with a max_depth = 11 and a n_estimators (trees) = 650"
   ]
  },
  {
   "cell_type": "code",
   "execution_count": 76,
   "metadata": {
    "colab": {},
    "colab_type": "code",
    "id": "ZIsYs-NlKNRu"
   },
   "outputs": [],
   "source": [
    "# fit model on training data\n",
    "model = XGBClassifier(nthread=-1, max_depth= 11, n_estimators= 650, random_state = 42)\n",
    "model_xgb = model.fit(X_train, y_train)"
   ]
  },
  {
   "cell_type": "code",
   "execution_count": 77,
   "metadata": {},
   "outputs": [
    {
     "data": {
      "text/html": [
       "<div>\n",
       "<style scoped>\n",
       "    .dataframe tbody tr th:only-of-type {\n",
       "        vertical-align: middle;\n",
       "    }\n",
       "\n",
       "    .dataframe tbody tr th {\n",
       "        vertical-align: top;\n",
       "    }\n",
       "\n",
       "    .dataframe thead th {\n",
       "        text-align: right;\n",
       "    }\n",
       "</style>\n",
       "<table border=\"1\" class=\"dataframe\">\n",
       "  <thead>\n",
       "    <tr style=\"text-align: right;\">\n",
       "      <th></th>\n",
       "      <th>time_left</th>\n",
       "      <th>ct_score</th>\n",
       "      <th>t_score</th>\n",
       "      <th>bomb_planted</th>\n",
       "      <th>ct_health</th>\n",
       "      <th>t_health</th>\n",
       "      <th>ct_armor</th>\n",
       "      <th>t_armor</th>\n",
       "      <th>ct_money</th>\n",
       "      <th>t_money</th>\n",
       "      <th>...</th>\n",
       "      <th>ct_grenade_decoygrenade</th>\n",
       "      <th>t_grenade_decoygrenade</th>\n",
       "      <th>map0</th>\n",
       "      <th>map1</th>\n",
       "      <th>map2</th>\n",
       "      <th>map3</th>\n",
       "      <th>map4</th>\n",
       "      <th>map5</th>\n",
       "      <th>map6</th>\n",
       "      <th>map7</th>\n",
       "    </tr>\n",
       "  </thead>\n",
       "  <tbody>\n",
       "    <tr>\n",
       "      <th>53900</th>\n",
       "      <td>0.027657</td>\n",
       "      <td>-0.580769</td>\n",
       "      <td>-1.210584</td>\n",
       "      <td>-0.366078</td>\n",
       "      <td>-0.052449</td>\n",
       "      <td>0.021890</td>\n",
       "      <td>0.271390</td>\n",
       "      <td>-0.597321</td>\n",
       "      <td>0.354380</td>\n",
       "      <td>-0.221013</td>\n",
       "      <td>...</td>\n",
       "      <td>-0.164133</td>\n",
       "      <td>-0.154347</td>\n",
       "      <td>-0.034836</td>\n",
       "      <td>-0.469940</td>\n",
       "      <td>-0.492921</td>\n",
       "      <td>-0.423743</td>\n",
       "      <td>2.356984</td>\n",
       "      <td>-0.359113</td>\n",
       "      <td>-0.35347</td>\n",
       "      <td>-0.318980</td>\n",
       "    </tr>\n",
       "    <tr>\n",
       "      <th>38244</th>\n",
       "      <td>1.547272</td>\n",
       "      <td>0.665377</td>\n",
       "      <td>0.029514</td>\n",
       "      <td>-0.366078</td>\n",
       "      <td>0.691543</td>\n",
       "      <td>0.725510</td>\n",
       "      <td>-1.321876</td>\n",
       "      <td>-0.148708</td>\n",
       "      <td>0.279261</td>\n",
       "      <td>0.656202</td>\n",
       "      <td>...</td>\n",
       "      <td>-0.164133</td>\n",
       "      <td>-0.154347</td>\n",
       "      <td>-0.034836</td>\n",
       "      <td>2.127933</td>\n",
       "      <td>-0.492921</td>\n",
       "      <td>-0.423743</td>\n",
       "      <td>-0.424271</td>\n",
       "      <td>-0.359113</td>\n",
       "      <td>-0.35347</td>\n",
       "      <td>-0.318980</td>\n",
       "    </tr>\n",
       "    <tr>\n",
       "      <th>4634</th>\n",
       "      <td>-1.203058</td>\n",
       "      <td>1.496141</td>\n",
       "      <td>1.682979</td>\n",
       "      <td>-0.366078</td>\n",
       "      <td>-2.284427</td>\n",
       "      <td>-1.582363</td>\n",
       "      <td>-1.286601</td>\n",
       "      <td>-0.125703</td>\n",
       "      <td>-0.542622</td>\n",
       "      <td>-0.887046</td>\n",
       "      <td>...</td>\n",
       "      <td>-0.164133</td>\n",
       "      <td>-0.154347</td>\n",
       "      <td>-0.034836</td>\n",
       "      <td>2.127933</td>\n",
       "      <td>-0.492921</td>\n",
       "      <td>-0.423743</td>\n",
       "      <td>-0.424271</td>\n",
       "      <td>-0.359113</td>\n",
       "      <td>-0.35347</td>\n",
       "      <td>-0.318980</td>\n",
       "    </tr>\n",
       "    <tr>\n",
       "      <th>20618</th>\n",
       "      <td>1.546513</td>\n",
       "      <td>0.042304</td>\n",
       "      <td>-0.590535</td>\n",
       "      <td>-0.366078</td>\n",
       "      <td>0.691543</td>\n",
       "      <td>0.725510</td>\n",
       "      <td>-0.851539</td>\n",
       "      <td>-1.747611</td>\n",
       "      <td>2.064427</td>\n",
       "      <td>0.489694</td>\n",
       "      <td>...</td>\n",
       "      <td>-0.164133</td>\n",
       "      <td>-0.154347</td>\n",
       "      <td>-0.034836</td>\n",
       "      <td>-0.469940</td>\n",
       "      <td>-0.492921</td>\n",
       "      <td>-0.423743</td>\n",
       "      <td>2.356984</td>\n",
       "      <td>-0.359113</td>\n",
       "      <td>-0.35347</td>\n",
       "      <td>-0.318980</td>\n",
       "    </tr>\n",
       "    <tr>\n",
       "      <th>78159</th>\n",
       "      <td>-1.113335</td>\n",
       "      <td>0.873068</td>\n",
       "      <td>1.062930</td>\n",
       "      <td>2.731658</td>\n",
       "      <td>-1.399076</td>\n",
       "      <td>-2.004535</td>\n",
       "      <td>-0.210705</td>\n",
       "      <td>-0.712350</td>\n",
       "      <td>-0.675184</td>\n",
       "      <td>-0.261624</td>\n",
       "      <td>...</td>\n",
       "      <td>-0.164133</td>\n",
       "      <td>-0.154347</td>\n",
       "      <td>-0.034836</td>\n",
       "      <td>-0.469940</td>\n",
       "      <td>-0.492921</td>\n",
       "      <td>-0.423743</td>\n",
       "      <td>-0.424271</td>\n",
       "      <td>-0.359113</td>\n",
       "      <td>-0.35347</td>\n",
       "      <td>3.134992</td>\n",
       "    </tr>\n",
       "    <tr>\n",
       "      <th>...</th>\n",
       "      <td>...</td>\n",
       "      <td>...</td>\n",
       "      <td>...</td>\n",
       "      <td>...</td>\n",
       "      <td>...</td>\n",
       "      <td>...</td>\n",
       "      <td>...</td>\n",
       "      <td>...</td>\n",
       "      <td>...</td>\n",
       "      <td>...</td>\n",
       "      <td>...</td>\n",
       "      <td>...</td>\n",
       "      <td>...</td>\n",
       "      <td>...</td>\n",
       "      <td>...</td>\n",
       "      <td>...</td>\n",
       "      <td>...</td>\n",
       "      <td>...</td>\n",
       "      <td>...</td>\n",
       "      <td>...</td>\n",
       "      <td>...</td>\n",
       "    </tr>\n",
       "    <tr>\n",
       "      <th>53459</th>\n",
       "      <td>1.280567</td>\n",
       "      <td>1.703832</td>\n",
       "      <td>0.856247</td>\n",
       "      <td>-0.366078</td>\n",
       "      <td>0.691543</td>\n",
       "      <td>0.725510</td>\n",
       "      <td>-1.286601</td>\n",
       "      <td>1.128113</td>\n",
       "      <td>0.473685</td>\n",
       "      <td>-0.769272</td>\n",
       "      <td>...</td>\n",
       "      <td>-0.164133</td>\n",
       "      <td>-0.154347</td>\n",
       "      <td>-0.034836</td>\n",
       "      <td>-0.469940</td>\n",
       "      <td>-0.492921</td>\n",
       "      <td>-0.423743</td>\n",
       "      <td>-0.424271</td>\n",
       "      <td>2.784640</td>\n",
       "      <td>-0.35347</td>\n",
       "      <td>-0.318980</td>\n",
       "    </tr>\n",
       "    <tr>\n",
       "      <th>10742</th>\n",
       "      <td>-0.842456</td>\n",
       "      <td>0.665377</td>\n",
       "      <td>1.476296</td>\n",
       "      <td>-0.366078</td>\n",
       "      <td>0.691543</td>\n",
       "      <td>0.296302</td>\n",
       "      <td>0.959258</td>\n",
       "      <td>1.001581</td>\n",
       "      <td>0.827184</td>\n",
       "      <td>-0.891107</td>\n",
       "      <td>...</td>\n",
       "      <td>-0.164133</td>\n",
       "      <td>-0.154347</td>\n",
       "      <td>-0.034836</td>\n",
       "      <td>-0.469940</td>\n",
       "      <td>-0.492921</td>\n",
       "      <td>-0.423743</td>\n",
       "      <td>-0.424271</td>\n",
       "      <td>-0.359113</td>\n",
       "      <td>-0.35347</td>\n",
       "      <td>3.134992</td>\n",
       "    </tr>\n",
       "    <tr>\n",
       "      <th>49689</th>\n",
       "      <td>-0.350207</td>\n",
       "      <td>-0.788460</td>\n",
       "      <td>-0.797218</td>\n",
       "      <td>-0.366078</td>\n",
       "      <td>0.691543</td>\n",
       "      <td>0.662184</td>\n",
       "      <td>1.018050</td>\n",
       "      <td>1.001581</td>\n",
       "      <td>-0.560297</td>\n",
       "      <td>0.087637</td>\n",
       "      <td>...</td>\n",
       "      <td>-0.164133</td>\n",
       "      <td>-0.154347</td>\n",
       "      <td>-0.034836</td>\n",
       "      <td>-0.469940</td>\n",
       "      <td>-0.492921</td>\n",
       "      <td>2.359920</td>\n",
       "      <td>-0.424271</td>\n",
       "      <td>-0.359113</td>\n",
       "      <td>-0.35347</td>\n",
       "      <td>-0.318980</td>\n",
       "    </tr>\n",
       "    <tr>\n",
       "      <th>58564</th>\n",
       "      <td>-0.729590</td>\n",
       "      <td>0.873068</td>\n",
       "      <td>1.269613</td>\n",
       "      <td>-0.366078</td>\n",
       "      <td>-2.738262</td>\n",
       "      <td>-2.370418</td>\n",
       "      <td>-1.339514</td>\n",
       "      <td>-1.195472</td>\n",
       "      <td>-0.781233</td>\n",
       "      <td>-0.245380</td>\n",
       "      <td>...</td>\n",
       "      <td>-0.164133</td>\n",
       "      <td>-0.154347</td>\n",
       "      <td>-0.034836</td>\n",
       "      <td>-0.469940</td>\n",
       "      <td>2.028724</td>\n",
       "      <td>-0.423743</td>\n",
       "      <td>-0.424271</td>\n",
       "      <td>-0.359113</td>\n",
       "      <td>-0.35347</td>\n",
       "      <td>-0.318980</td>\n",
       "    </tr>\n",
       "    <tr>\n",
       "      <th>61615</th>\n",
       "      <td>0.407798</td>\n",
       "      <td>-0.788460</td>\n",
       "      <td>-1.210584</td>\n",
       "      <td>-0.366078</td>\n",
       "      <td>0.691543</td>\n",
       "      <td>0.725510</td>\n",
       "      <td>1.029808</td>\n",
       "      <td>-1.172466</td>\n",
       "      <td>-0.334942</td>\n",
       "      <td>-0.022015</td>\n",
       "      <td>...</td>\n",
       "      <td>-0.164133</td>\n",
       "      <td>-0.154347</td>\n",
       "      <td>-0.034836</td>\n",
       "      <td>-0.469940</td>\n",
       "      <td>2.028724</td>\n",
       "      <td>-0.423743</td>\n",
       "      <td>-0.424271</td>\n",
       "      <td>-0.359113</td>\n",
       "      <td>-0.35347</td>\n",
       "      <td>-0.318980</td>\n",
       "    </tr>\n",
       "  </tbody>\n",
       "</table>\n",
       "<p>56597 rows × 94 columns</p>\n",
       "</div>"
      ],
      "text/plain": [
       "       time_left  ct_score   t_score  bomb_planted  ct_health  t_health  \\\n",
       "53900   0.027657 -0.580769 -1.210584     -0.366078  -0.052449  0.021890   \n",
       "38244   1.547272  0.665377  0.029514     -0.366078   0.691543  0.725510   \n",
       "4634   -1.203058  1.496141  1.682979     -0.366078  -2.284427 -1.582363   \n",
       "20618   1.546513  0.042304 -0.590535     -0.366078   0.691543  0.725510   \n",
       "78159  -1.113335  0.873068  1.062930      2.731658  -1.399076 -2.004535   \n",
       "...          ...       ...       ...           ...        ...       ...   \n",
       "53459   1.280567  1.703832  0.856247     -0.366078   0.691543  0.725510   \n",
       "10742  -0.842456  0.665377  1.476296     -0.366078   0.691543  0.296302   \n",
       "49689  -0.350207 -0.788460 -0.797218     -0.366078   0.691543  0.662184   \n",
       "58564  -0.729590  0.873068  1.269613     -0.366078  -2.738262 -2.370418   \n",
       "61615   0.407798 -0.788460 -1.210584     -0.366078   0.691543  0.725510   \n",
       "\n",
       "       ct_armor   t_armor  ct_money   t_money  ...  ct_grenade_decoygrenade  \\\n",
       "53900  0.271390 -0.597321  0.354380 -0.221013  ...                -0.164133   \n",
       "38244 -1.321876 -0.148708  0.279261  0.656202  ...                -0.164133   \n",
       "4634  -1.286601 -0.125703 -0.542622 -0.887046  ...                -0.164133   \n",
       "20618 -0.851539 -1.747611  2.064427  0.489694  ...                -0.164133   \n",
       "78159 -0.210705 -0.712350 -0.675184 -0.261624  ...                -0.164133   \n",
       "...         ...       ...       ...       ...  ...                      ...   \n",
       "53459 -1.286601  1.128113  0.473685 -0.769272  ...                -0.164133   \n",
       "10742  0.959258  1.001581  0.827184 -0.891107  ...                -0.164133   \n",
       "49689  1.018050  1.001581 -0.560297  0.087637  ...                -0.164133   \n",
       "58564 -1.339514 -1.195472 -0.781233 -0.245380  ...                -0.164133   \n",
       "61615  1.029808 -1.172466 -0.334942 -0.022015  ...                -0.164133   \n",
       "\n",
       "       t_grenade_decoygrenade      map0      map1      map2      map3  \\\n",
       "53900               -0.154347 -0.034836 -0.469940 -0.492921 -0.423743   \n",
       "38244               -0.154347 -0.034836  2.127933 -0.492921 -0.423743   \n",
       "4634                -0.154347 -0.034836  2.127933 -0.492921 -0.423743   \n",
       "20618               -0.154347 -0.034836 -0.469940 -0.492921 -0.423743   \n",
       "78159               -0.154347 -0.034836 -0.469940 -0.492921 -0.423743   \n",
       "...                       ...       ...       ...       ...       ...   \n",
       "53459               -0.154347 -0.034836 -0.469940 -0.492921 -0.423743   \n",
       "10742               -0.154347 -0.034836 -0.469940 -0.492921 -0.423743   \n",
       "49689               -0.154347 -0.034836 -0.469940 -0.492921  2.359920   \n",
       "58564               -0.154347 -0.034836 -0.469940  2.028724 -0.423743   \n",
       "61615               -0.154347 -0.034836 -0.469940  2.028724 -0.423743   \n",
       "\n",
       "           map4      map5     map6      map7  \n",
       "53900  2.356984 -0.359113 -0.35347 -0.318980  \n",
       "38244 -0.424271 -0.359113 -0.35347 -0.318980  \n",
       "4634  -0.424271 -0.359113 -0.35347 -0.318980  \n",
       "20618  2.356984 -0.359113 -0.35347 -0.318980  \n",
       "78159 -0.424271 -0.359113 -0.35347  3.134992  \n",
       "...         ...       ...      ...       ...  \n",
       "53459 -0.424271  2.784640 -0.35347 -0.318980  \n",
       "10742 -0.424271 -0.359113 -0.35347  3.134992  \n",
       "49689 -0.424271 -0.359113 -0.35347 -0.318980  \n",
       "58564 -0.424271 -0.359113 -0.35347 -0.318980  \n",
       "61615 -0.424271 -0.359113 -0.35347 -0.318980  \n",
       "\n",
       "[56597 rows x 94 columns]"
      ]
     },
     "execution_count": 77,
     "metadata": {},
     "output_type": "execute_result"
    }
   ],
   "source": [
    "X_train"
   ]
  },
  {
   "cell_type": "code",
   "execution_count": 78,
   "metadata": {},
   "outputs": [],
   "source": [
    "#Scale Val features\n",
    "names = X_val.columns\n",
    "scaler = preprocessing.StandardScaler()\n",
    "scaled_features_val = scaler.fit_transform(X_val)\n",
    "scaled_features_val = pd.DataFrame(scaled_features_val, columns=names)"
   ]
  },
  {
   "cell_type": "code",
   "execution_count": 79,
   "metadata": {},
   "outputs": [],
   "source": [
    "# make predictions for val data\n",
    "predictions = model_xgb.predict(scaled_features_val)\n",
    "prediction = pd.DataFrame(predictions, columns=['predictions']).to_csv('prediction.csv')"
   ]
  },
  {
   "cell_type": "code",
   "execution_count": 80,
   "metadata": {},
   "outputs": [
    {
     "name": "stdout",
     "output_type": "stream",
     "text": [
      "Accuracy: 86.00%\n"
     ]
    }
   ],
   "source": [
    "# evaluate predictions\n",
    "accuracy = accuracy_score(y_val, predictions)\n",
    "print(\"Accuracy: %.2f%%\" % (accuracy * 100.0))"
   ]
  },
  {
   "cell_type": "markdown",
   "metadata": {},
   "source": [
    "Best Accuracy: 86.00%"
   ]
  }
 ],
 "metadata": {
  "colab": {
   "collapsed_sections": [],
   "name": "ML2_Group_Assignment - Tomas.ipynb",
   "provenance": [],
   "toc_visible": true
  },
  "kernelspec": {
   "display_name": "Python 3",
   "language": "python",
   "name": "python3"
  },
  "language_info": {
   "codemirror_mode": {
    "name": "ipython",
    "version": 3
   },
   "file_extension": ".py",
   "mimetype": "text/x-python",
   "name": "python",
   "nbconvert_exporter": "python",
   "pygments_lexer": "ipython3",
   "version": "3.7.6"
  }
 },
 "nbformat": 4,
 "nbformat_minor": 1
}
